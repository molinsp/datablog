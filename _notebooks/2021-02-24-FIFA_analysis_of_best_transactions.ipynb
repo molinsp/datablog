{
 "cells": [
  {
   "cell_type": "markdown",
   "metadata": {},
   "source": [
    "# Best footbal transactions 2015-2020\n",
    "> Analyzing player performance to determine the best transactions\n",
    "\n",
    "- toc: true \n",
    "- badges: true\n",
    "- comments: false\n",
    "- categories: [jupyter]"
   ]
  },
  {
   "cell_type": "code",
   "execution_count": 1,
   "metadata": {
    "execution": {
     "iopub.execute_input": "2021-04-07T21:17:03.281172Z",
     "iopub.status.busy": "2021-04-07T21:17:03.280836Z",
     "iopub.status.idle": "2021-04-07T21:17:03.555696Z",
     "shell.execute_reply": "2021-04-07T21:17:03.554700Z",
     "shell.execute_reply.started": "2021-04-07T21:17:03.281146Z"
    }
   },
   "outputs": [],
   "source": [
    "#hide\n",
    "import pandas as pd\n",
    "import glob\n",
    "from IPython.display import HTML\n",
    "def read_csv_folder(folder_path, file_prefix=None, file_col_name=None):\n",
    "    all_files = glob.glob(folder_path + \"/*.csv\")\n",
    "\n",
    "    li = []\n",
    "    for filename in all_files:\n",
    "        \n",
    "        df = pd.read_csv(filename, index_col=None, header=0)\n",
    "        if file_prefix != None:\n",
    "            \n",
    "            if file_col_name == None: file_col_name = 'file'\n",
    "            \n",
    "            col_value = filename.strip(folder_path + '/' + 'players_').strip('.csv')\n",
    "            df.insert(\n",
    "                loc=0, \n",
    "                column=file_col_name, \n",
    "                value=col_value)\n",
    "        \n",
    "        li.append(df)\n",
    "\n",
    "    return pd.concat(li, axis=0, ignore_index=True)\n",
    "from fastdata.core import *\n",
    "import plotly.express as px\n",
    "\n",
    "from fuzzywuzzy import fuzz, process\n",
    "def fuzzy_merge(left, right, left_on, right_on, threshold=90, limit=1):\n",
    "    s = right[right_on].tolist()\n",
    "    \n",
    "    m = left[left_on].apply(lambda x: process.extract(x, s, limit=limit))    \n",
    "    left['matches'] = m\n",
    "    \n",
    "    m2 = left['matches'].apply(lambda x: ', '.join([i[0] for i in x if i[1] >= threshold]))\n",
    "    left['matches'] = m2\n",
    "    \n",
    "    return left"
   ]
  },
  {
   "cell_type": "markdown",
   "metadata": {},
   "source": [
    "# Summary"
   ]
  },
  {
   "cell_type": "markdown",
   "metadata": {},
   "source": [
    "The following article outlines a methodology to identify the best among the top football transactions between 2015 and 2020.\n",
    "\n",
    "Two different methodologies to define \"best\" are presented and discussed.\n",
    "For this exercise, data from the FIFA videogame to evaluate player performance and a list of football transactions by value from Wikipedia are used."
   ]
  },
  {
   "cell_type": "markdown",
   "metadata": {},
   "source": [
    "# 1. Load & prepare data"
   ]
  },
  {
   "cell_type": "markdown",
   "metadata": {},
   "source": [
    "## Load FIFA dataset for all years"
   ]
  },
  {
   "cell_type": "markdown",
   "metadata": {},
   "source": [
    "**Description:** This dataset from the FIFA video game includes an assessment of player skills in several categories and contextual information (club, left vs. right-footed, etc.).\n",
    "\n",
    "**Source:** [Kaggle Dataset](https://www.kaggle.com/stefanoleone992/fifa-20-complete-player-dataset?select=players_19.csv)\n",
    "Original data from [sofifa.com](https://sofifa.com)"
   ]
  },
  {
   "cell_type": "code",
   "execution_count": 2,
   "metadata": {
    "execution": {
     "iopub.execute_input": "2021-04-07T21:17:03.579666Z",
     "iopub.status.busy": "2021-04-07T21:17:03.579007Z",
     "iopub.status.idle": "2021-04-07T21:17:06.483590Z",
     "shell.execute_reply": "2021-04-07T21:17:06.482635Z",
     "shell.execute_reply.started": "2021-04-07T21:17:03.579615Z"
    }
   },
   "outputs": [],
   "source": [
    "all = read_csv_folder(\n",
    "    folder_path=\"FIFA_all_years\", \n",
    "    file_prefix=\"players_\", \n",
    "    file_col_name=\"year\")"
   ]
  },
  {
   "cell_type": "code",
   "execution_count": 3,
   "metadata": {
    "execution": {
     "iopub.execute_input": "2021-04-07T21:17:06.485528Z",
     "iopub.status.busy": "2021-04-07T21:17:06.485074Z",
     "iopub.status.idle": "2021-04-07T21:17:07.035787Z",
     "shell.execute_reply": "2021-04-07T21:17:07.034142Z",
     "shell.execute_reply.started": "2021-04-07T21:17:06.485479Z"
    }
   },
   "outputs": [],
   "source": [
    "all = all.astype(\n",
    "    dtype={\"year\" : \"int64\"})"
   ]
  },
  {
   "cell_type": "markdown",
   "metadata": {},
   "source": [
    "Set full year number"
   ]
  },
  {
   "cell_type": "code",
   "execution_count": 4,
   "metadata": {
    "execution": {
     "iopub.execute_input": "2021-04-07T21:17:07.050381Z",
     "iopub.status.busy": "2021-04-07T21:17:07.049713Z",
     "iopub.status.idle": "2021-04-07T21:17:07.079454Z",
     "shell.execute_reply": "2021-04-07T21:17:07.077506Z",
     "shell.execute_reply.started": "2021-04-07T21:17:07.050327Z"
    }
   },
   "outputs": [],
   "source": [
    "all[\"year\"] = all[\"year\"].add(\n",
    "    other=2000)"
   ]
  },
  {
   "cell_type": "code",
   "execution_count": 5,
   "metadata": {
    "execution": {
     "iopub.execute_input": "2021-04-07T21:17:07.092621Z",
     "iopub.status.busy": "2021-04-07T21:17:07.092150Z",
     "iopub.status.idle": "2021-04-07T21:17:07.176997Z",
     "shell.execute_reply": "2021-04-07T21:17:07.163676Z",
     "shell.execute_reply.started": "2021-04-07T21:17:07.092567Z"
    }
   },
   "outputs": [
    {
     "data": {
      "text/html": [
       "<div>\n",
       "<style scoped>\n",
       "    .dataframe tbody tr th:only-of-type {\n",
       "        vertical-align: middle;\n",
       "    }\n",
       "\n",
       "    .dataframe tbody tr th {\n",
       "        vertical-align: top;\n",
       "    }\n",
       "\n",
       "    .dataframe thead th {\n",
       "        text-align: right;\n",
       "    }\n",
       "</style>\n",
       "<table border=\"1\" class=\"dataframe\">\n",
       "  <thead>\n",
       "    <tr style=\"text-align: right;\">\n",
       "      <th></th>\n",
       "      <th>year</th>\n",
       "      <th>sofifa_id</th>\n",
       "      <th>player_url</th>\n",
       "      <th>short_name</th>\n",
       "      <th>long_name</th>\n",
       "      <th>age</th>\n",
       "      <th>dob</th>\n",
       "      <th>height_cm</th>\n",
       "      <th>weight_kg</th>\n",
       "      <th>nationality</th>\n",
       "      <th>...</th>\n",
       "      <th>lwb</th>\n",
       "      <th>ldm</th>\n",
       "      <th>cdm</th>\n",
       "      <th>rdm</th>\n",
       "      <th>rwb</th>\n",
       "      <th>lb</th>\n",
       "      <th>lcb</th>\n",
       "      <th>cb</th>\n",
       "      <th>rcb</th>\n",
       "      <th>rb</th>\n",
       "    </tr>\n",
       "  </thead>\n",
       "  <tbody>\n",
       "    <tr>\n",
       "      <th>0</th>\n",
       "      <td>2021</td>\n",
       "      <td>158023</td>\n",
       "      <td>https://sofifa.com/player/158023/lionel-messi/...</td>\n",
       "      <td>L. Messi</td>\n",
       "      <td>Lionel Andrés Messi Cuccittini</td>\n",
       "      <td>33</td>\n",
       "      <td>1987-06-24</td>\n",
       "      <td>170</td>\n",
       "      <td>72</td>\n",
       "      <td>Argentina</td>\n",
       "      <td>...</td>\n",
       "      <td>66+3</td>\n",
       "      <td>65+3</td>\n",
       "      <td>65+3</td>\n",
       "      <td>65+3</td>\n",
       "      <td>66+3</td>\n",
       "      <td>62+3</td>\n",
       "      <td>52+3</td>\n",
       "      <td>52+3</td>\n",
       "      <td>52+3</td>\n",
       "      <td>62+3</td>\n",
       "    </tr>\n",
       "    <tr>\n",
       "      <th>1</th>\n",
       "      <td>2021</td>\n",
       "      <td>20801</td>\n",
       "      <td>https://sofifa.com/player/20801/c-ronaldo-dos-...</td>\n",
       "      <td>Cristiano Ronaldo</td>\n",
       "      <td>Cristiano Ronaldo dos Santos Aveiro</td>\n",
       "      <td>35</td>\n",
       "      <td>1985-02-05</td>\n",
       "      <td>187</td>\n",
       "      <td>83</td>\n",
       "      <td>Portugal</td>\n",
       "      <td>...</td>\n",
       "      <td>65+3</td>\n",
       "      <td>61+3</td>\n",
       "      <td>61+3</td>\n",
       "      <td>61+3</td>\n",
       "      <td>65+3</td>\n",
       "      <td>61+3</td>\n",
       "      <td>54+3</td>\n",
       "      <td>54+3</td>\n",
       "      <td>54+3</td>\n",
       "      <td>61+3</td>\n",
       "    </tr>\n",
       "    <tr>\n",
       "      <th>2</th>\n",
       "      <td>2021</td>\n",
       "      <td>200389</td>\n",
       "      <td>https://sofifa.com/player/200389/jan-oblak/210002</td>\n",
       "      <td>J. Oblak</td>\n",
       "      <td>Jan Oblak</td>\n",
       "      <td>27</td>\n",
       "      <td>1993-01-07</td>\n",
       "      <td>188</td>\n",
       "      <td>87</td>\n",
       "      <td>Slovenia</td>\n",
       "      <td>...</td>\n",
       "      <td>32+3</td>\n",
       "      <td>36+3</td>\n",
       "      <td>36+3</td>\n",
       "      <td>36+3</td>\n",
       "      <td>32+3</td>\n",
       "      <td>32+3</td>\n",
       "      <td>33+3</td>\n",
       "      <td>33+3</td>\n",
       "      <td>33+3</td>\n",
       "      <td>32+3</td>\n",
       "    </tr>\n",
       "    <tr>\n",
       "      <th>3</th>\n",
       "      <td>2021</td>\n",
       "      <td>188545</td>\n",
       "      <td>https://sofifa.com/player/188545/robert-lewand...</td>\n",
       "      <td>R. Lewandowski</td>\n",
       "      <td>Robert Lewandowski</td>\n",
       "      <td>31</td>\n",
       "      <td>1988-08-21</td>\n",
       "      <td>184</td>\n",
       "      <td>80</td>\n",
       "      <td>Poland</td>\n",
       "      <td>...</td>\n",
       "      <td>64+3</td>\n",
       "      <td>65+3</td>\n",
       "      <td>65+3</td>\n",
       "      <td>65+3</td>\n",
       "      <td>64+3</td>\n",
       "      <td>61+3</td>\n",
       "      <td>60+3</td>\n",
       "      <td>60+3</td>\n",
       "      <td>60+3</td>\n",
       "      <td>61+3</td>\n",
       "    </tr>\n",
       "    <tr>\n",
       "      <th>4</th>\n",
       "      <td>2021</td>\n",
       "      <td>190871</td>\n",
       "      <td>https://sofifa.com/player/190871/neymar-da-sil...</td>\n",
       "      <td>Neymar Jr</td>\n",
       "      <td>Neymar da Silva Santos Júnior</td>\n",
       "      <td>28</td>\n",
       "      <td>1992-02-05</td>\n",
       "      <td>175</td>\n",
       "      <td>68</td>\n",
       "      <td>Brazil</td>\n",
       "      <td>...</td>\n",
       "      <td>67+3</td>\n",
       "      <td>62+3</td>\n",
       "      <td>62+3</td>\n",
       "      <td>62+3</td>\n",
       "      <td>67+3</td>\n",
       "      <td>62+3</td>\n",
       "      <td>49+3</td>\n",
       "      <td>49+3</td>\n",
       "      <td>49+3</td>\n",
       "      <td>62+3</td>\n",
       "    </tr>\n",
       "  </tbody>\n",
       "</table>\n",
       "<p>5 rows × 107 columns</p>\n",
       "</div>"
      ],
      "text/plain": [
       "   year  sofifa_id                                         player_url  \\\n",
       "0  2021     158023  https://sofifa.com/player/158023/lionel-messi/...   \n",
       "1  2021      20801  https://sofifa.com/player/20801/c-ronaldo-dos-...   \n",
       "2  2021     200389  https://sofifa.com/player/200389/jan-oblak/210002   \n",
       "3  2021     188545  https://sofifa.com/player/188545/robert-lewand...   \n",
       "4  2021     190871  https://sofifa.com/player/190871/neymar-da-sil...   \n",
       "\n",
       "          short_name                            long_name  age         dob  \\\n",
       "0           L. Messi       Lionel Andrés Messi Cuccittini   33  1987-06-24   \n",
       "1  Cristiano Ronaldo  Cristiano Ronaldo dos Santos Aveiro   35  1985-02-05   \n",
       "2           J. Oblak                            Jan Oblak   27  1993-01-07   \n",
       "3     R. Lewandowski                   Robert Lewandowski   31  1988-08-21   \n",
       "4          Neymar Jr        Neymar da Silva Santos Júnior   28  1992-02-05   \n",
       "\n",
       "   height_cm  weight_kg nationality  ...   lwb   ldm   cdm   rdm   rwb    lb  \\\n",
       "0        170         72   Argentina  ...  66+3  65+3  65+3  65+3  66+3  62+3   \n",
       "1        187         83    Portugal  ...  65+3  61+3  61+3  61+3  65+3  61+3   \n",
       "2        188         87    Slovenia  ...  32+3  36+3  36+3  36+3  32+3  32+3   \n",
       "3        184         80      Poland  ...  64+3  65+3  65+3  65+3  64+3  61+3   \n",
       "4        175         68      Brazil  ...  67+3  62+3  62+3  62+3  67+3  62+3   \n",
       "\n",
       "    lcb    cb   rcb    rb  \n",
       "0  52+3  52+3  52+3  62+3  \n",
       "1  54+3  54+3  54+3  61+3  \n",
       "2  33+3  33+3  33+3  32+3  \n",
       "3  60+3  60+3  60+3  61+3  \n",
       "4  49+3  49+3  49+3  62+3  \n",
       "\n",
       "[5 rows x 107 columns]"
      ]
     },
     "execution_count": 5,
     "metadata": {},
     "output_type": "execute_result"
    }
   ],
   "source": [
    "#hide_input\n",
    "all.head()"
   ]
  },
  {
   "cell_type": "markdown",
   "metadata": {},
   "source": [
    "## Load the transactions from wikipedia"
   ]
  },
  {
   "cell_type": "markdown",
   "metadata": {},
   "source": [
    "**Description:** This dataset lists the top largest transactions in football\n",
    "\n",
    "**Source:** [Wikipedia Page](https://en.wikipedia.org/wiki/List_of_most_expensive_association_football_transfers)\n",
    "\n",
    "**Other details:** Scraped using the following tool: [wikitable2csv](https://wikitable2csv.ggor.de/)"
   ]
  },
  {
   "cell_type": "code",
   "execution_count": 6,
   "metadata": {
    "execution": {
     "iopub.execute_input": "2021-04-07T21:17:07.185941Z",
     "iopub.status.busy": "2021-04-07T21:17:07.185403Z",
     "iopub.status.idle": "2021-04-07T21:17:07.198424Z",
     "shell.execute_reply": "2021-04-07T21:17:07.196918Z",
     "shell.execute_reply.started": "2021-04-07T21:17:07.185896Z"
    }
   },
   "outputs": [],
   "source": [
    "transactions = pd.read_csv(\n",
    "    filepath_or_buffer=\"BigTransactionsWikipedia.csv\", \n",
    "    sep=\",\", \n",
    "    decimal=\".\")"
   ]
  },
  {
   "cell_type": "markdown",
   "metadata": {},
   "source": [
    "Keep only relevant columns"
   ]
  },
  {
   "cell_type": "code",
   "execution_count": 7,
   "metadata": {
    "execution": {
     "iopub.execute_input": "2021-04-07T21:17:07.209672Z",
     "iopub.status.busy": "2021-04-07T21:17:07.209271Z",
     "iopub.status.idle": "2021-04-07T21:17:07.217810Z",
     "shell.execute_reply": "2021-04-07T21:17:07.216440Z",
     "shell.execute_reply.started": "2021-04-07T21:17:07.209643Z"
    }
   },
   "outputs": [],
   "source": [
    "transactions = transactions.filter(\n",
    "    items=[\"Player\",\"From\",\"To\",\"Fee(€ mln)\",\"Year\"])"
   ]
  },
  {
   "cell_type": "markdown",
   "metadata": {},
   "source": [
    "Rename fields"
   ]
  },
  {
   "cell_type": "code",
   "execution_count": 8,
   "metadata": {
    "execution": {
     "iopub.execute_input": "2021-04-07T21:17:07.222594Z",
     "iopub.status.busy": "2021-04-07T21:17:07.222133Z",
     "iopub.status.idle": "2021-04-07T21:17:07.245585Z",
     "shell.execute_reply": "2021-04-07T21:17:07.240639Z",
     "shell.execute_reply.started": "2021-04-07T21:17:07.222556Z"
    }
   },
   "outputs": [],
   "source": [
    "transactions = transactions.rename(\n",
    "    columns={\"Fee(€ mln)\" : \"fee\", \"Year\" : \"transaction_year\"})"
   ]
  },
  {
   "cell_type": "markdown",
   "metadata": {},
   "source": [
    "Extract numbers from text data"
   ]
  },
  {
   "cell_type": "code",
   "execution_count": 9,
   "metadata": {
    "execution": {
     "iopub.execute_input": "2021-04-07T21:17:07.251688Z",
     "iopub.status.busy": "2021-04-07T21:17:07.251296Z",
     "iopub.status.idle": "2021-04-07T21:17:07.334560Z",
     "shell.execute_reply": "2021-04-07T21:17:07.332972Z",
     "shell.execute_reply.started": "2021-04-07T21:17:07.251644Z"
    }
   },
   "outputs": [],
   "source": [
    "transactions[\"fee\"] = transactions[\"fee\"].fdt.clean_text_column(\n",
    "    mode=\"custom\", \n",
    "    keep_unmatched=False, \n",
    "    regex=\"(\\d+)\")"
   ]
  },
  {
   "cell_type": "code",
   "execution_count": 10,
   "metadata": {
    "execution": {
     "iopub.execute_input": "2021-04-07T21:17:07.340272Z",
     "iopub.status.busy": "2021-04-07T21:17:07.339737Z",
     "iopub.status.idle": "2021-04-07T21:17:07.350975Z",
     "shell.execute_reply": "2021-04-07T21:17:07.348159Z",
     "shell.execute_reply.started": "2021-04-07T21:17:07.340223Z"
    }
   },
   "outputs": [],
   "source": [
    "transactions[\"transaction_year\"] = transactions[\"transaction_year\"].fdt.clean_text_column(\n",
    "    mode=\"custom\", \n",
    "    keep_unmatched=False, \n",
    "    regex=\"(\\d+)\")"
   ]
  },
  {
   "cell_type": "code",
   "execution_count": 11,
   "metadata": {
    "execution": {
     "iopub.execute_input": "2021-04-07T21:17:07.356526Z",
     "iopub.status.busy": "2021-04-07T21:17:07.356067Z",
     "iopub.status.idle": "2021-04-07T21:17:07.380363Z",
     "shell.execute_reply": "2021-04-07T21:17:07.378672Z",
     "shell.execute_reply.started": "2021-04-07T21:17:07.356470Z"
    }
   },
   "outputs": [],
   "source": [
    "transactions = transactions.astype(\n",
    "    dtype={\"transaction_year\" : \"int64\",\n",
    "            \"fee\": \"int64\"})"
   ]
  },
  {
   "cell_type": "code",
   "execution_count": 12,
   "metadata": {
    "execution": {
     "iopub.execute_input": "2021-04-07T21:17:07.385453Z",
     "iopub.status.busy": "2021-04-07T21:17:07.385041Z",
     "iopub.status.idle": "2021-04-07T21:17:07.444812Z",
     "shell.execute_reply": "2021-04-07T21:17:07.443112Z",
     "shell.execute_reply.started": "2021-04-07T21:17:07.385408Z"
    }
   },
   "outputs": [
    {
     "data": {
      "text/html": [
       "<div>\n",
       "<style scoped>\n",
       "    .dataframe tbody tr th:only-of-type {\n",
       "        vertical-align: middle;\n",
       "    }\n",
       "\n",
       "    .dataframe tbody tr th {\n",
       "        vertical-align: top;\n",
       "    }\n",
       "\n",
       "    .dataframe thead th {\n",
       "        text-align: right;\n",
       "    }\n",
       "</style>\n",
       "<table border=\"1\" class=\"dataframe\">\n",
       "  <thead>\n",
       "    <tr style=\"text-align: right;\">\n",
       "      <th></th>\n",
       "      <th>Player</th>\n",
       "      <th>From</th>\n",
       "      <th>To</th>\n",
       "      <th>fee</th>\n",
       "      <th>transaction_year</th>\n",
       "    </tr>\n",
       "  </thead>\n",
       "  <tbody>\n",
       "    <tr>\n",
       "      <th>0</th>\n",
       "      <td>Neymar</td>\n",
       "      <td>Barcelona</td>\n",
       "      <td>Paris Saint-Germain</td>\n",
       "      <td>222</td>\n",
       "      <td>2017</td>\n",
       "    </tr>\n",
       "    <tr>\n",
       "      <th>1</th>\n",
       "      <td>Kylian Mbappé</td>\n",
       "      <td>Monaco</td>\n",
       "      <td>Paris Saint-Germain</td>\n",
       "      <td>180</td>\n",
       "      <td>2018</td>\n",
       "    </tr>\n",
       "    <tr>\n",
       "      <th>2</th>\n",
       "      <td>Philippe Coutinho</td>\n",
       "      <td>Liverpool</td>\n",
       "      <td>Barcelona</td>\n",
       "      <td>145</td>\n",
       "      <td>2018</td>\n",
       "    </tr>\n",
       "    <tr>\n",
       "      <th>3</th>\n",
       "      <td>João Félix</td>\n",
       "      <td>Benfica</td>\n",
       "      <td>Atlético Madrid</td>\n",
       "      <td>126</td>\n",
       "      <td>2019</td>\n",
       "    </tr>\n",
       "    <tr>\n",
       "      <th>4</th>\n",
       "      <td>Antoine Griezmann</td>\n",
       "      <td>Atlético Madrid</td>\n",
       "      <td>Barcelona</td>\n",
       "      <td>120</td>\n",
       "      <td>2019</td>\n",
       "    </tr>\n",
       "  </tbody>\n",
       "</table>\n",
       "</div>"
      ],
      "text/plain": [
       "              Player             From                   To  fee  \\\n",
       "0             Neymar        Barcelona  Paris Saint-Germain  222   \n",
       "1      Kylian Mbappé           Monaco  Paris Saint-Germain  180   \n",
       "2  Philippe Coutinho        Liverpool            Barcelona  145   \n",
       "3         João Félix          Benfica      Atlético Madrid  126   \n",
       "4  Antoine Griezmann  Atlético Madrid            Barcelona  120   \n",
       "\n",
       "   transaction_year  \n",
       "0              2017  \n",
       "1              2018  \n",
       "2              2018  \n",
       "3              2019  \n",
       "4              2019  "
      ]
     },
     "execution_count": 12,
     "metadata": {},
     "output_type": "execute_result"
    }
   ],
   "source": [
    "#hide_input\n",
    "transactions.head()"
   ]
  },
  {
   "cell_type": "markdown",
   "metadata": {},
   "source": [
    "## Use fuzzy matching to connect the data"
   ]
  },
  {
   "cell_type": "markdown",
   "metadata": {},
   "source": [
    "The player names of the FIFA and the Wikipedia dataset do not match. For example, FIFA dataset uses `Neymar da Silva Santos Júnior` and the Wikipedia transaction dataset `Neymar`. To match the names that refer to the same player, fuzzy matching is used (using a library that leverages the concept of [levenstein distance](https://en.wikipedia.org/wiki/Levenshtein_distance#:~:text=Informally%2C%20the%20Levenshtein%20distance%20between,considered%20this%20distance%20in%201965.)).\n",
    "\n",
    "To do that, we first get the unique names from the FIFA dataset in a separate dataframe."
   ]
  },
  {
   "cell_type": "code",
   "execution_count": 13,
   "metadata": {
    "execution": {
     "iopub.execute_input": "2021-04-07T21:17:07.448338Z",
     "iopub.status.busy": "2021-04-07T21:17:07.447403Z",
     "iopub.status.idle": "2021-04-07T21:17:07.511803Z",
     "shell.execute_reply": "2021-04-07T21:17:07.510201Z",
     "shell.execute_reply.started": "2021-04-07T21:17:07.448278Z"
    }
   },
   "outputs": [],
   "source": [
    "player_names = pd.DataFrame({'fifa_name' : all['long_name'].unique()}).head(1000)"
   ]
  },
  {
   "cell_type": "markdown",
   "metadata": {},
   "source": [
    "Pefrom fuzzy matching using a threshold of 60 (after a bit of trial and error)"
   ]
  },
  {
   "cell_type": "code",
   "execution_count": 14,
   "metadata": {
    "execution": {
     "iopub.execute_input": "2021-04-07T21:17:07.515970Z",
     "iopub.status.busy": "2021-04-07T21:17:07.515006Z",
     "iopub.status.idle": "2021-04-07T21:17:11.592570Z",
     "shell.execute_reply": "2021-04-07T21:17:11.591667Z",
     "shell.execute_reply.started": "2021-04-07T21:17:07.515917Z"
    }
   },
   "outputs": [],
   "source": [
    "matched_transactions = fuzzy_merge(transactions,\n",
    "    right=player_names, \n",
    "    left_on=\"Player\", \n",
    "    right_on=\"fifa_name\", \n",
    "    threshold=60, \n",
    "    limit=1)"
   ]
  },
  {
   "cell_type": "markdown",
   "metadata": {},
   "source": [
    "Transaction data with the FIFA name in a column called `matches`"
   ]
  },
  {
   "cell_type": "code",
   "execution_count": 15,
   "metadata": {
    "execution": {
     "iopub.execute_input": "2021-04-07T21:17:11.594704Z",
     "iopub.status.busy": "2021-04-07T21:17:11.594107Z",
     "iopub.status.idle": "2021-04-07T21:17:11.627282Z",
     "shell.execute_reply": "2021-04-07T21:17:11.625713Z",
     "shell.execute_reply.started": "2021-04-07T21:17:11.594648Z"
    }
   },
   "outputs": [
    {
     "data": {
      "text/html": [
       "<div>\n",
       "<style scoped>\n",
       "    .dataframe tbody tr th:only-of-type {\n",
       "        vertical-align: middle;\n",
       "    }\n",
       "\n",
       "    .dataframe tbody tr th {\n",
       "        vertical-align: top;\n",
       "    }\n",
       "\n",
       "    .dataframe thead th {\n",
       "        text-align: right;\n",
       "    }\n",
       "</style>\n",
       "<table border=\"1\" class=\"dataframe\">\n",
       "  <thead>\n",
       "    <tr style=\"text-align: right;\">\n",
       "      <th></th>\n",
       "      <th>Player</th>\n",
       "      <th>From</th>\n",
       "      <th>To</th>\n",
       "      <th>fee</th>\n",
       "      <th>transaction_year</th>\n",
       "      <th>matches</th>\n",
       "    </tr>\n",
       "  </thead>\n",
       "  <tbody>\n",
       "    <tr>\n",
       "      <th>0</th>\n",
       "      <td>Neymar</td>\n",
       "      <td>Barcelona</td>\n",
       "      <td>Paris Saint-Germain</td>\n",
       "      <td>222</td>\n",
       "      <td>2017</td>\n",
       "      <td>Neymar da Silva Santos Júnior</td>\n",
       "    </tr>\n",
       "    <tr>\n",
       "      <th>1</th>\n",
       "      <td>Kylian Mbappé</td>\n",
       "      <td>Monaco</td>\n",
       "      <td>Paris Saint-Germain</td>\n",
       "      <td>180</td>\n",
       "      <td>2018</td>\n",
       "      <td>Kylian Mbappé Lottin</td>\n",
       "    </tr>\n",
       "    <tr>\n",
       "      <th>2</th>\n",
       "      <td>Philippe Coutinho</td>\n",
       "      <td>Liverpool</td>\n",
       "      <td>Barcelona</td>\n",
       "      <td>145</td>\n",
       "      <td>2018</td>\n",
       "      <td>Philippe Coutinho Correia</td>\n",
       "    </tr>\n",
       "    <tr>\n",
       "      <th>3</th>\n",
       "      <td>João Félix</td>\n",
       "      <td>Benfica</td>\n",
       "      <td>Atlético Madrid</td>\n",
       "      <td>126</td>\n",
       "      <td>2019</td>\n",
       "      <td>João Félix Sequeira</td>\n",
       "    </tr>\n",
       "    <tr>\n",
       "      <th>4</th>\n",
       "      <td>Antoine Griezmann</td>\n",
       "      <td>Atlético Madrid</td>\n",
       "      <td>Barcelona</td>\n",
       "      <td>120</td>\n",
       "      <td>2019</td>\n",
       "      <td>Antoine Griezmann</td>\n",
       "    </tr>\n",
       "  </tbody>\n",
       "</table>\n",
       "</div>"
      ],
      "text/plain": [
       "              Player             From                   To  fee  \\\n",
       "0             Neymar        Barcelona  Paris Saint-Germain  222   \n",
       "1      Kylian Mbappé           Monaco  Paris Saint-Germain  180   \n",
       "2  Philippe Coutinho        Liverpool            Barcelona  145   \n",
       "3         João Félix          Benfica      Atlético Madrid  126   \n",
       "4  Antoine Griezmann  Atlético Madrid            Barcelona  120   \n",
       "\n",
       "   transaction_year                        matches  \n",
       "0              2017  Neymar da Silva Santos Júnior  \n",
       "1              2018           Kylian Mbappé Lottin  \n",
       "2              2018      Philippe Coutinho Correia  \n",
       "3              2019            João Félix Sequeira  \n",
       "4              2019              Antoine Griezmann  "
      ]
     },
     "execution_count": 15,
     "metadata": {},
     "output_type": "execute_result"
    }
   ],
   "source": [
    "#hide_input\n",
    "matched_transactions.head()"
   ]
  },
  {
   "cell_type": "markdown",
   "metadata": {},
   "source": [
    "# 2. Analysis A: Performance improvement after transaction"
   ]
  },
  {
   "cell_type": "markdown",
   "metadata": {},
   "source": [
    "Assuming that the transactions were completed at a fair market value and future improvements were not priced in, the players' score improvement can be used to rank the transactions.\n",
    "\n",
    "`score change = #score 2 years after transaction - #score transaction year`"
   ]
  },
  {
   "cell_type": "markdown",
   "metadata": {},
   "source": [
    "## Get+2 year mark"
   ]
  },
  {
   "cell_type": "markdown",
   "metadata": {},
   "source": [
    "Create +2y mark"
   ]
  },
  {
   "cell_type": "code",
   "execution_count": 16,
   "metadata": {
    "execution": {
     "iopub.execute_input": "2021-04-07T21:17:11.632185Z",
     "iopub.status.busy": "2021-04-07T21:17:11.631583Z",
     "iopub.status.idle": "2021-04-07T21:17:11.643515Z",
     "shell.execute_reply": "2021-04-07T21:17:11.640181Z",
     "shell.execute_reply.started": "2021-04-07T21:17:11.632137Z"
    }
   },
   "outputs": [],
   "source": [
    "matched_transactions[\"+2y\"] = matched_transactions[\"transaction_year\"].add(\n",
    "    other=2)"
   ]
  },
  {
   "cell_type": "markdown",
   "metadata": {},
   "source": [
    "## Get yearly player score data"
   ]
  },
  {
   "cell_type": "markdown",
   "metadata": {},
   "source": [
    "Get scores per year"
   ]
  },
  {
   "cell_type": "code",
   "execution_count": 17,
   "metadata": {
    "execution": {
     "iopub.execute_input": "2021-04-07T21:17:11.646100Z",
     "iopub.status.busy": "2021-04-07T21:17:11.645562Z",
     "iopub.status.idle": "2021-04-07T21:17:11.655766Z",
     "shell.execute_reply": "2021-04-07T21:17:11.654675Z",
     "shell.execute_reply.started": "2021-04-07T21:17:11.646044Z"
    }
   },
   "outputs": [],
   "source": [
    "year_scores = all.filter(\n",
    "    items=[\"year\",\"long_name\",\"overall\"])"
   ]
  },
  {
   "cell_type": "code",
   "execution_count": 18,
   "metadata": {
    "execution": {
     "iopub.execute_input": "2021-04-07T21:17:11.658803Z",
     "iopub.status.busy": "2021-04-07T21:17:11.658364Z",
     "iopub.status.idle": "2021-04-07T21:17:11.669770Z",
     "shell.execute_reply": "2021-04-07T21:17:11.668763Z",
     "shell.execute_reply.started": "2021-04-07T21:17:11.658760Z"
    }
   },
   "outputs": [],
   "source": [
    "year_scores = year_scores.rename(\n",
    "    columns={ \"long_name\" : \"fifa_name\", \"overall\" : \"score\"})"
   ]
  },
  {
   "cell_type": "code",
   "execution_count": 19,
   "metadata": {
    "execution": {
     "iopub.execute_input": "2021-04-07T21:17:11.671602Z",
     "iopub.status.busy": "2021-04-07T21:17:11.671077Z",
     "iopub.status.idle": "2021-04-07T21:17:11.683007Z",
     "shell.execute_reply": "2021-04-07T21:17:11.681916Z",
     "shell.execute_reply.started": "2021-04-07T21:17:11.671557Z"
    }
   },
   "outputs": [
    {
     "data": {
      "text/html": [
       "<div>\n",
       "<style scoped>\n",
       "    .dataframe tbody tr th:only-of-type {\n",
       "        vertical-align: middle;\n",
       "    }\n",
       "\n",
       "    .dataframe tbody tr th {\n",
       "        vertical-align: top;\n",
       "    }\n",
       "\n",
       "    .dataframe thead th {\n",
       "        text-align: right;\n",
       "    }\n",
       "</style>\n",
       "<table border=\"1\" class=\"dataframe\">\n",
       "  <thead>\n",
       "    <tr style=\"text-align: right;\">\n",
       "      <th></th>\n",
       "      <th>year</th>\n",
       "      <th>fifa_name</th>\n",
       "      <th>score</th>\n",
       "    </tr>\n",
       "  </thead>\n",
       "  <tbody>\n",
       "    <tr>\n",
       "      <th>0</th>\n",
       "      <td>2021</td>\n",
       "      <td>Lionel Andrés Messi Cuccittini</td>\n",
       "      <td>93</td>\n",
       "    </tr>\n",
       "    <tr>\n",
       "      <th>1</th>\n",
       "      <td>2021</td>\n",
       "      <td>Cristiano Ronaldo dos Santos Aveiro</td>\n",
       "      <td>92</td>\n",
       "    </tr>\n",
       "    <tr>\n",
       "      <th>2</th>\n",
       "      <td>2021</td>\n",
       "      <td>Jan Oblak</td>\n",
       "      <td>91</td>\n",
       "    </tr>\n",
       "    <tr>\n",
       "      <th>3</th>\n",
       "      <td>2021</td>\n",
       "      <td>Robert Lewandowski</td>\n",
       "      <td>91</td>\n",
       "    </tr>\n",
       "    <tr>\n",
       "      <th>4</th>\n",
       "      <td>2021</td>\n",
       "      <td>Neymar da Silva Santos Júnior</td>\n",
       "      <td>91</td>\n",
       "    </tr>\n",
       "  </tbody>\n",
       "</table>\n",
       "</div>"
      ],
      "text/plain": [
       "   year                            fifa_name  score\n",
       "0  2021       Lionel Andrés Messi Cuccittini     93\n",
       "1  2021  Cristiano Ronaldo dos Santos Aveiro     92\n",
       "2  2021                            Jan Oblak     91\n",
       "3  2021                   Robert Lewandowski     91\n",
       "4  2021        Neymar da Silva Santos Júnior     91"
      ]
     },
     "execution_count": 19,
     "metadata": {},
     "output_type": "execute_result"
    }
   ],
   "source": [
    "#hide_input\n",
    "year_scores.head()"
   ]
  },
  {
   "cell_type": "markdown",
   "metadata": {},
   "source": [
    "Rename the matched column as `fifa_name` for easier matching"
   ]
  },
  {
   "cell_type": "code",
   "execution_count": 20,
   "metadata": {
    "execution": {
     "iopub.execute_input": "2021-04-07T21:17:11.685186Z",
     "iopub.status.busy": "2021-04-07T21:17:11.684614Z",
     "iopub.status.idle": "2021-04-07T21:17:11.692055Z",
     "shell.execute_reply": "2021-04-07T21:17:11.691014Z",
     "shell.execute_reply.started": "2021-04-07T21:17:11.685141Z"
    }
   },
   "outputs": [],
   "source": [
    "matched_transactions = matched_transactions.rename(\n",
    "    columns={ \"matches\" : \"fifa_name\"})"
   ]
  },
  {
   "cell_type": "markdown",
   "metadata": {},
   "source": [
    "## Merge the yearly player score data into the transactions table"
   ]
  },
  {
   "cell_type": "markdown",
   "metadata": {},
   "source": [
    "Join with the score of the year of the transaction"
   ]
  },
  {
   "cell_type": "code",
   "execution_count": 21,
   "metadata": {
    "execution": {
     "iopub.execute_input": "2021-04-07T21:17:11.694362Z",
     "iopub.status.busy": "2021-04-07T21:17:11.693893Z",
     "iopub.status.idle": "2021-04-07T21:17:11.771176Z",
     "shell.execute_reply": "2021-04-07T21:17:11.770475Z",
     "shell.execute_reply.started": "2021-04-07T21:17:11.694316Z"
    }
   },
   "outputs": [],
   "source": [
    "transactions_with_scores = matched_transactions.merge(\n",
    "    right=year_scores, \n",
    "    how=\"left\", \n",
    "    left_on=[\"transaction_year\",\"fifa_name\"], \n",
    "    right_on=[\"year\",\"fifa_name\"])"
   ]
  },
  {
   "cell_type": "code",
   "execution_count": 22,
   "metadata": {
    "execution": {
     "iopub.execute_input": "2021-04-07T21:17:11.772964Z",
     "iopub.status.busy": "2021-04-07T21:17:11.772461Z",
     "iopub.status.idle": "2021-04-07T21:17:11.779373Z",
     "shell.execute_reply": "2021-04-07T21:17:11.778315Z",
     "shell.execute_reply.started": "2021-04-07T21:17:11.772921Z"
    }
   },
   "outputs": [],
   "source": [
    "transactions_with_scores = transactions_with_scores.rename(\n",
    "    columns={\"year\" : \"year0\",\n",
    "             \"score\": \"score_transaction_year\"})"
   ]
  },
  {
   "cell_type": "markdown",
   "metadata": {},
   "source": [
    "Join with the score of 2 years after the transaction"
   ]
  },
  {
   "cell_type": "code",
   "execution_count": 23,
   "metadata": {
    "execution": {
     "iopub.execute_input": "2021-04-07T21:17:11.781613Z",
     "iopub.status.busy": "2021-04-07T21:17:11.780993Z",
     "iopub.status.idle": "2021-04-07T21:17:11.852906Z",
     "shell.execute_reply": "2021-04-07T21:17:11.851642Z",
     "shell.execute_reply.started": "2021-04-07T21:17:11.781562Z"
    }
   },
   "outputs": [],
   "source": [
    "transactions_with_scores = transactions_with_scores.merge(\n",
    "    right=year_scores, \n",
    "    how=\"inner\", \n",
    "    left_on=[\"+2y\",\"fifa_name\"], \n",
    "    right_on=[\"year\",\"fifa_name\"])"
   ]
  },
  {
   "cell_type": "code",
   "execution_count": 24,
   "metadata": {
    "execution": {
     "iopub.execute_input": "2021-04-07T21:17:11.856919Z",
     "iopub.status.busy": "2021-04-07T21:17:11.855526Z",
     "iopub.status.idle": "2021-04-07T21:17:11.863723Z",
     "shell.execute_reply": "2021-04-07T21:17:11.862595Z",
     "shell.execute_reply.started": "2021-04-07T21:17:11.856814Z"
    }
   },
   "outputs": [],
   "source": [
    "transactions_with_scores = transactions_with_scores.rename(\n",
    "    columns={\"score\" : \"score_+2y\",\n",
    "             \"score\": \"score_+2y\"})"
   ]
  },
  {
   "cell_type": "markdown",
   "metadata": {},
   "source": [
    "Now we have the scores at the year of the transaction and two years later"
   ]
  },
  {
   "cell_type": "code",
   "execution_count": 25,
   "metadata": {
    "execution": {
     "iopub.execute_input": "2021-04-07T21:17:11.871984Z",
     "iopub.status.busy": "2021-04-07T21:17:11.871692Z",
     "iopub.status.idle": "2021-04-07T21:17:11.889811Z",
     "shell.execute_reply": "2021-04-07T21:17:11.888941Z",
     "shell.execute_reply.started": "2021-04-07T21:17:11.871943Z"
    }
   },
   "outputs": [
    {
     "data": {
      "text/html": [
       "<div>\n",
       "<style scoped>\n",
       "    .dataframe tbody tr th:only-of-type {\n",
       "        vertical-align: middle;\n",
       "    }\n",
       "\n",
       "    .dataframe tbody tr th {\n",
       "        vertical-align: top;\n",
       "    }\n",
       "\n",
       "    .dataframe thead th {\n",
       "        text-align: right;\n",
       "    }\n",
       "</style>\n",
       "<table border=\"1\" class=\"dataframe\">\n",
       "  <thead>\n",
       "    <tr style=\"text-align: right;\">\n",
       "      <th></th>\n",
       "      <th>Player</th>\n",
       "      <th>From</th>\n",
       "      <th>To</th>\n",
       "      <th>fee</th>\n",
       "      <th>transaction_year</th>\n",
       "      <th>fifa_name</th>\n",
       "      <th>+2y</th>\n",
       "      <th>year0</th>\n",
       "      <th>score_transaction_year</th>\n",
       "      <th>year</th>\n",
       "      <th>score_+2y</th>\n",
       "    </tr>\n",
       "  </thead>\n",
       "  <tbody>\n",
       "    <tr>\n",
       "      <th>0</th>\n",
       "      <td>Neymar</td>\n",
       "      <td>Barcelona</td>\n",
       "      <td>Paris Saint-Germain</td>\n",
       "      <td>222</td>\n",
       "      <td>2017</td>\n",
       "      <td>Neymar da Silva Santos Júnior</td>\n",
       "      <td>2019</td>\n",
       "      <td>2017.0</td>\n",
       "      <td>92.0</td>\n",
       "      <td>2019</td>\n",
       "      <td>92</td>\n",
       "    </tr>\n",
       "    <tr>\n",
       "      <th>1</th>\n",
       "      <td>Kylian Mbappé</td>\n",
       "      <td>Monaco</td>\n",
       "      <td>Paris Saint-Germain</td>\n",
       "      <td>180</td>\n",
       "      <td>2018</td>\n",
       "      <td>Kylian Mbappé Lottin</td>\n",
       "      <td>2020</td>\n",
       "      <td>2018.0</td>\n",
       "      <td>83.0</td>\n",
       "      <td>2020</td>\n",
       "      <td>89</td>\n",
       "    </tr>\n",
       "    <tr>\n",
       "      <th>2</th>\n",
       "      <td>Philippe Coutinho</td>\n",
       "      <td>Liverpool</td>\n",
       "      <td>Barcelona</td>\n",
       "      <td>145</td>\n",
       "      <td>2018</td>\n",
       "      <td>Philippe Coutinho Correia</td>\n",
       "      <td>2020</td>\n",
       "      <td>2018.0</td>\n",
       "      <td>86.0</td>\n",
       "      <td>2020</td>\n",
       "      <td>86</td>\n",
       "    </tr>\n",
       "    <tr>\n",
       "      <th>3</th>\n",
       "      <td>João Félix</td>\n",
       "      <td>Benfica</td>\n",
       "      <td>Atlético Madrid</td>\n",
       "      <td>126</td>\n",
       "      <td>2019</td>\n",
       "      <td>João Félix Sequeira</td>\n",
       "      <td>2021</td>\n",
       "      <td>2019.0</td>\n",
       "      <td>69.0</td>\n",
       "      <td>2021</td>\n",
       "      <td>81</td>\n",
       "    </tr>\n",
       "    <tr>\n",
       "      <th>4</th>\n",
       "      <td>Antoine Griezmann</td>\n",
       "      <td>Atlético Madrid</td>\n",
       "      <td>Barcelona</td>\n",
       "      <td>120</td>\n",
       "      <td>2019</td>\n",
       "      <td>Antoine Griezmann</td>\n",
       "      <td>2021</td>\n",
       "      <td>2019.0</td>\n",
       "      <td>89.0</td>\n",
       "      <td>2021</td>\n",
       "      <td>87</td>\n",
       "    </tr>\n",
       "  </tbody>\n",
       "</table>\n",
       "</div>"
      ],
      "text/plain": [
       "              Player             From                   To  fee  \\\n",
       "0             Neymar        Barcelona  Paris Saint-Germain  222   \n",
       "1      Kylian Mbappé           Monaco  Paris Saint-Germain  180   \n",
       "2  Philippe Coutinho        Liverpool            Barcelona  145   \n",
       "3         João Félix          Benfica      Atlético Madrid  126   \n",
       "4  Antoine Griezmann  Atlético Madrid            Barcelona  120   \n",
       "\n",
       "   transaction_year                      fifa_name   +2y   year0  \\\n",
       "0              2017  Neymar da Silva Santos Júnior  2019  2017.0   \n",
       "1              2018           Kylian Mbappé Lottin  2020  2018.0   \n",
       "2              2018      Philippe Coutinho Correia  2020  2018.0   \n",
       "3              2019            João Félix Sequeira  2021  2019.0   \n",
       "4              2019              Antoine Griezmann  2021  2019.0   \n",
       "\n",
       "   score_transaction_year  year  score_+2y  \n",
       "0                    92.0  2019         92  \n",
       "1                    83.0  2020         89  \n",
       "2                    86.0  2020         86  \n",
       "3                    69.0  2021         81  \n",
       "4                    89.0  2021         87  "
      ]
     },
     "execution_count": 25,
     "metadata": {},
     "output_type": "execute_result"
    }
   ],
   "source": [
    "#hide_input\n",
    "transactions_with_scores.head()"
   ]
  },
  {
   "cell_type": "markdown",
   "metadata": {},
   "source": [
    "## Calculate performance difference"
   ]
  },
  {
   "cell_type": "code",
   "execution_count": 26,
   "metadata": {
    "execution": {
     "iopub.execute_input": "2021-04-07T21:17:11.894310Z",
     "iopub.status.busy": "2021-04-07T21:17:11.893913Z",
     "iopub.status.idle": "2021-04-07T21:17:11.903076Z",
     "shell.execute_reply": "2021-04-07T21:17:11.901779Z",
     "shell.execute_reply.started": "2021-04-07T21:17:11.894273Z"
    }
   },
   "outputs": [],
   "source": [
    "transactions_with_scores = transactions_with_scores.dropna(\n",
    "    axis=\"index\", \n",
    "    how=\"any\", \n",
    "    subset=[\"score_transaction_year\",\"score_+2y\"])"
   ]
  },
  {
   "cell_type": "code",
   "execution_count": 27,
   "metadata": {
    "execution": {
     "iopub.execute_input": "2021-04-07T21:17:11.905080Z",
     "iopub.status.busy": "2021-04-07T21:17:11.904302Z",
     "iopub.status.idle": "2021-04-07T21:17:11.911942Z",
     "shell.execute_reply": "2021-04-07T21:17:11.910391Z",
     "shell.execute_reply.started": "2021-04-07T21:17:11.904993Z"
    }
   },
   "outputs": [],
   "source": [
    "transactions_with_scores[\"score_delta\"] = transactions_with_scores[\"score_+2y\"].subtract(\n",
    "    other=transactions_with_scores[\"score_transaction_year\"])"
   ]
  },
  {
   "cell_type": "code",
   "execution_count": 28,
   "metadata": {
    "execution": {
     "iopub.execute_input": "2021-04-07T21:17:11.914270Z",
     "iopub.status.busy": "2021-04-07T21:17:11.913958Z",
     "iopub.status.idle": "2021-04-07T21:17:11.920163Z",
     "shell.execute_reply": "2021-04-07T21:17:11.919348Z",
     "shell.execute_reply.started": "2021-04-07T21:17:11.914243Z"
    }
   },
   "outputs": [],
   "source": [
    "transactions_with_scores = transactions_with_scores.sort_values(\n",
    "    by=\"score_delta\", \n",
    "    ascending=False)"
   ]
  },
  {
   "cell_type": "code",
   "execution_count": 29,
   "metadata": {
    "execution": {
     "iopub.execute_input": "2021-04-07T21:17:11.922119Z",
     "iopub.status.busy": "2021-04-07T21:17:11.921892Z",
     "iopub.status.idle": "2021-04-07T21:17:11.928944Z",
     "shell.execute_reply": "2021-04-07T21:17:11.927592Z",
     "shell.execute_reply.started": "2021-04-07T21:17:11.922093Z"
    }
   },
   "outputs": [],
   "source": [
    "transactions_with_scores['transaction name'] = transactions_with_scores['Player'] + '-' + transactions_with_scores['transaction_year'].apply(lambda x: str(int(x)))"
   ]
  },
  {
   "cell_type": "code",
   "execution_count": 30,
   "metadata": {
    "execution": {
     "iopub.execute_input": "2021-04-07T21:17:11.931420Z",
     "iopub.status.busy": "2021-04-07T21:17:11.931077Z",
     "iopub.status.idle": "2021-04-07T21:17:11.948967Z",
     "shell.execute_reply": "2021-04-07T21:17:11.948016Z",
     "shell.execute_reply.started": "2021-04-07T21:17:11.931392Z"
    }
   },
   "outputs": [
    {
     "data": {
      "text/html": [
       "<div>\n",
       "<style scoped>\n",
       "    .dataframe tbody tr th:only-of-type {\n",
       "        vertical-align: middle;\n",
       "    }\n",
       "\n",
       "    .dataframe tbody tr th {\n",
       "        vertical-align: top;\n",
       "    }\n",
       "\n",
       "    .dataframe thead th {\n",
       "        text-align: right;\n",
       "    }\n",
       "</style>\n",
       "<table border=\"1\" class=\"dataframe\">\n",
       "  <thead>\n",
       "    <tr style=\"text-align: right;\">\n",
       "      <th></th>\n",
       "      <th>Player</th>\n",
       "      <th>From</th>\n",
       "      <th>To</th>\n",
       "      <th>fee</th>\n",
       "      <th>transaction_year</th>\n",
       "      <th>fifa_name</th>\n",
       "      <th>+2y</th>\n",
       "      <th>year0</th>\n",
       "      <th>score_transaction_year</th>\n",
       "      <th>year</th>\n",
       "      <th>score_+2y</th>\n",
       "      <th>score_delta</th>\n",
       "      <th>transaction name</th>\n",
       "    </tr>\n",
       "  </thead>\n",
       "  <tbody>\n",
       "    <tr>\n",
       "      <th>3</th>\n",
       "      <td>João Félix</td>\n",
       "      <td>Benfica</td>\n",
       "      <td>Atlético Madrid</td>\n",
       "      <td>126</td>\n",
       "      <td>2019</td>\n",
       "      <td>João Félix Sequeira</td>\n",
       "      <td>2021</td>\n",
       "      <td>2019.0</td>\n",
       "      <td>69.0</td>\n",
       "      <td>2021</td>\n",
       "      <td>81</td>\n",
       "      <td>12.0</td>\n",
       "      <td>João Félix-2019</td>\n",
       "    </tr>\n",
       "    <tr>\n",
       "      <th>33</th>\n",
       "      <td>Alisson</td>\n",
       "      <td>Roma</td>\n",
       "      <td>Liverpool</td>\n",
       "      <td>62</td>\n",
       "      <td>2018</td>\n",
       "      <td>Alisson Ramsés Becker</td>\n",
       "      <td>2020</td>\n",
       "      <td>2018.0</td>\n",
       "      <td>80.0</td>\n",
       "      <td>2020</td>\n",
       "      <td>89</td>\n",
       "      <td>9.0</td>\n",
       "      <td>Alisson-2018</td>\n",
       "    </tr>\n",
       "    <tr>\n",
       "      <th>21</th>\n",
       "      <td>Frenkie de Jong</td>\n",
       "      <td>Ajax</td>\n",
       "      <td>Barcelona</td>\n",
       "      <td>75</td>\n",
       "      <td>2019</td>\n",
       "      <td>Frenkie de Jong</td>\n",
       "      <td>2021</td>\n",
       "      <td>2019.0</td>\n",
       "      <td>77.0</td>\n",
       "      <td>2021</td>\n",
       "      <td>85</td>\n",
       "      <td>8.0</td>\n",
       "      <td>Frenkie de Jong-2019</td>\n",
       "    </tr>\n",
       "    <tr>\n",
       "      <th>13</th>\n",
       "      <td>Virgil van Dijk</td>\n",
       "      <td>Southampton</td>\n",
       "      <td>Liverpool</td>\n",
       "      <td>84</td>\n",
       "      <td>2018</td>\n",
       "      <td>Virgil van Dijk</td>\n",
       "      <td>2020</td>\n",
       "      <td>2018.0</td>\n",
       "      <td>83.0</td>\n",
       "      <td>2020</td>\n",
       "      <td>90</td>\n",
       "      <td>7.0</td>\n",
       "      <td>Virgil van Dijk-2018</td>\n",
       "    </tr>\n",
       "    <tr>\n",
       "      <th>23</th>\n",
       "      <td>Kevin De Bruyne</td>\n",
       "      <td>VfL Wolfsburg</td>\n",
       "      <td>Manchester City</td>\n",
       "      <td>75</td>\n",
       "      <td>2015</td>\n",
       "      <td>Kevin De Bruyne</td>\n",
       "      <td>2017</td>\n",
       "      <td>2015.0</td>\n",
       "      <td>81.0</td>\n",
       "      <td>2017</td>\n",
       "      <td>88</td>\n",
       "      <td>7.0</td>\n",
       "      <td>Kevin De Bruyne-2015</td>\n",
       "    </tr>\n",
       "  </tbody>\n",
       "</table>\n",
       "</div>"
      ],
      "text/plain": [
       "             Player           From               To  fee  transaction_year  \\\n",
       "3        João Félix        Benfica  Atlético Madrid  126              2019   \n",
       "33          Alisson           Roma        Liverpool   62              2018   \n",
       "21  Frenkie de Jong           Ajax        Barcelona   75              2019   \n",
       "13  Virgil van Dijk    Southampton        Liverpool   84              2018   \n",
       "23  Kevin De Bruyne  VfL Wolfsburg  Manchester City   75              2015   \n",
       "\n",
       "                fifa_name   +2y   year0  score_transaction_year  year  \\\n",
       "3     João Félix Sequeira  2021  2019.0                    69.0  2021   \n",
       "33  Alisson Ramsés Becker  2020  2018.0                    80.0  2020   \n",
       "21        Frenkie de Jong  2021  2019.0                    77.0  2021   \n",
       "13        Virgil van Dijk  2020  2018.0                    83.0  2020   \n",
       "23        Kevin De Bruyne  2017  2015.0                    81.0  2017   \n",
       "\n",
       "    score_+2y  score_delta      transaction name  \n",
       "3          81         12.0       João Félix-2019  \n",
       "33         89          9.0          Alisson-2018  \n",
       "21         85          8.0  Frenkie de Jong-2019  \n",
       "13         90          7.0  Virgil van Dijk-2018  \n",
       "23         88          7.0  Kevin De Bruyne-2015  "
      ]
     },
     "execution_count": 30,
     "metadata": {},
     "output_type": "execute_result"
    }
   ],
   "source": [
    "#hide_input\n",
    "transactions_with_scores.head()"
   ]
  },
  {
   "cell_type": "markdown",
   "metadata": {},
   "source": [
    "## Results"
   ]
  },
  {
   "cell_type": "markdown",
   "metadata": {},
   "source": [
    "Assuming that transactions where completed at a **fair market value**, the score improvement of the players is a metric that can give us an idea of what has been the best transaction."
   ]
  },
  {
   "cell_type": "code",
   "execution_count": 31,
   "metadata": {
    "execution": {
     "iopub.execute_input": "2021-04-07T21:17:11.950772Z",
     "iopub.status.busy": "2021-04-07T21:17:11.950455Z",
     "iopub.status.idle": "2021-04-07T21:17:11.955984Z",
     "shell.execute_reply": "2021-04-07T21:17:11.954883Z",
     "shell.execute_reply.started": "2021-04-07T21:17:11.950744Z"
    }
   },
   "outputs": [],
   "source": [
    "transactions_with_scores = transactions_with_scores.sort_values(\n",
    "    by=\"score_delta\", \n",
    "    ascending=True)"
   ]
  },
  {
   "cell_type": "markdown",
   "metadata": {},
   "source": [
    "According to this metric, Atlético de Madrid's purchase of João Félix's in 2019 was the best performing transaction (score change from 69 to 81), followed by Liverpool's purchase of Alisson in 2018 (score change from 80 to 89).\n",
    "\n",
    "The least performing transactions according to this metric were Real Madrid's purchase of Eden Hazard (score change from 91 to 88), Barça's Griezmann (score change from 89 to 87) and Inter's Lukaku (score change from 87 to 85)."
   ]
  },
  {
   "cell_type": "code",
   "execution_count": 32,
   "metadata": {
    "execution": {
     "iopub.execute_input": "2021-04-07T21:17:11.958476Z",
     "iopub.status.busy": "2021-04-07T21:17:11.958063Z",
     "iopub.status.idle": "2021-04-07T21:17:13.394069Z",
     "shell.execute_reply": "2021-04-07T21:17:13.393094Z",
     "shell.execute_reply.started": "2021-04-07T21:17:11.958435Z"
    }
   },
   "outputs": [
    {
     "data": {
      "text/html": [
       "<html>\n",
       "<head><meta charset=\"utf-8\" /></head>\n",
       "<body>\n",
       "    <div>                        <script type=\"text/javascript\">window.PlotlyConfig = {MathJaxConfig: 'local'};</script>\n",
       "        <script src=\"https://cdn.plot.ly/plotly-latest.min.js\"></script>                <div id=\"c097c53c-2a66-4660-acc4-90a44cbe3c29\" class=\"plotly-graph-div\" style=\"height:1000px; width:100%;\"></div>            <script type=\"text/javascript\">                                    window.PLOTLYENV=window.PLOTLYENV || {};                                    if (document.getElementById(\"c097c53c-2a66-4660-acc4-90a44cbe3c29\")) {                    Plotly.newPlot(                        \"c097c53c-2a66-4660-acc4-90a44cbe3c29\",                        [{\"alignmentgroup\": \"True\", \"hovertemplate\": \"\\u0394 fifa score after 2 yers=%{x}<br>transaction name=%{y}<extra></extra>\", \"legendgroup\": \"\", \"marker\": {\"color\": \"rgb(76,114,176)\"}, \"name\": \"\", \"offsetgroup\": \"\", \"orientation\": \"h\", \"showlegend\": false, \"textposition\": \"auto\", \"type\": \"bar\", \"x\": [-3.0, -2.0, -2.0, -1.0, -1.0, -1.0, 0.0, 0.0, 0.0, 0.0, 0.0, 0.0, 1.0, 1.0, 1.0, 1.0, 2.0, 2.0, 2.0, 2.0, 3.0, 3.0, 3.0, 4.0, 5.0, 5.0, 5.0, 6.0, 6.0, 7.0, 7.0, 7.0, 8.0, 9.0, 12.0], \"xaxis\": \"x\", \"y\": [\"Eden Hazard-2019\", \"Antoine Griezmann-2019\", \"Romelu Lukaku-2019\", \"Naby Ke\\u00efta-2018\", \"Oscar-2017\", \"Cristiano Ronaldo-2018\", \"Philippe Coutinho-2018\", \"Harry Maguire-2019\", \"Lucas Hernandez-2019\", \"Neymar-2017\", \"Pierre-Emerick Aubameyang-2018\", \"Thomas Lemar-2018\", \"\\u00c1lvaro Morata-2017\", \"Riyad Mahrez-2018\", \"Paul Pogba-2016\", \"\\u00c1ngel Di Mar\\u00eda-2015\", \"Jo\\u00e3o Cancelo-2019\", \"Tanguy Ndombele-2019\", \"Raheem Sterling-2015\", \"Christian Pulisic-2019\", \"Rodri-2019\", \"Aymeric Laporte-2018\", \"Romelu Lukaku-2017\", \"Kepa Arrizabalaga-2018\", \"Luka Jovi\\u0107-2019\", \"Ousmane Demb\\u00e9l\\u00e9-2017\", \"Matthijs de Ligt-2019\", \"Gonzalo Higua\\u00edn-2016\", \"Kylian Mbapp\\u00e9-2018\", \"Nicolas P\\u00e9p\\u00e9-2019\", \"Kevin De Bruyne-2015\", \"Virgil van Dijk-2018\", \"Frenkie de Jong-2019\", \"Alisson-2018\", \"Jo\\u00e3o F\\u00e9lix-2019\"], \"yaxis\": \"y\"}],                        {\"barmode\": \"relative\", \"height\": 1000, \"legend\": {\"tracegroupgap\": 0}, \"template\": {\"data\": {\"bar\": [{\"error_x\": {\"color\": \"rgb(36,36,36)\"}, \"error_y\": {\"color\": \"rgb(36,36,36)\"}, \"marker\": {\"line\": {\"color\": \"rgb(234,234,242)\", \"width\": 0.5}}, \"type\": \"bar\"}], \"barpolar\": [{\"marker\": {\"line\": {\"color\": \"rgb(234,234,242)\", \"width\": 0.5}}, \"type\": \"barpolar\"}], \"carpet\": [{\"aaxis\": {\"endlinecolor\": \"rgb(36,36,36)\", \"gridcolor\": \"white\", \"linecolor\": \"white\", \"minorgridcolor\": \"white\", \"startlinecolor\": \"rgb(36,36,36)\"}, \"baxis\": {\"endlinecolor\": \"rgb(36,36,36)\", \"gridcolor\": \"white\", \"linecolor\": \"white\", \"minorgridcolor\": \"white\", \"startlinecolor\": \"rgb(36,36,36)\"}, \"type\": \"carpet\"}], \"choropleth\": [{\"colorbar\": {\"outlinewidth\": 0, \"tickcolor\": \"rgb(36,36,36)\", \"ticklen\": 8, \"ticks\": \"outside\", \"tickwidth\": 2}, \"type\": \"choropleth\"}], \"contour\": [{\"colorbar\": {\"outlinewidth\": 0, \"tickcolor\": \"rgb(36,36,36)\", \"ticklen\": 8, \"ticks\": \"outside\", \"tickwidth\": 2}, \"colorscale\": [[0.0, \"rgb(2,4,25)\"], [0.06274509803921569, \"rgb(24,15,41)\"], [0.12549019607843137, \"rgb(47,23,57)\"], [0.18823529411764706, \"rgb(71,28,72)\"], [0.25098039215686274, \"rgb(97,30,82)\"], [0.3137254901960784, \"rgb(123,30,89)\"], [0.3764705882352941, \"rgb(150,27,91)\"], [0.4392156862745098, \"rgb(177,22,88)\"], [0.5019607843137255, \"rgb(203,26,79)\"], [0.5647058823529412, \"rgb(223,47,67)\"], [0.6274509803921569, \"rgb(236,76,61)\"], [0.6901960784313725, \"rgb(242,107,73)\"], [0.7529411764705882, \"rgb(244,135,95)\"], [0.8156862745098039, \"rgb(245,162,122)\"], [0.8784313725490196, \"rgb(246,188,153)\"], [0.9411764705882353, \"rgb(247,212,187)\"], [1.0, \"rgb(250,234,220)\"]], \"type\": \"contour\"}], \"contourcarpet\": [{\"colorbar\": {\"outlinewidth\": 0, \"tickcolor\": \"rgb(36,36,36)\", \"ticklen\": 8, \"ticks\": \"outside\", \"tickwidth\": 2}, \"type\": \"contourcarpet\"}], \"heatmap\": [{\"colorbar\": {\"outlinewidth\": 0, \"tickcolor\": \"rgb(36,36,36)\", \"ticklen\": 8, \"ticks\": \"outside\", \"tickwidth\": 2}, \"colorscale\": [[0.0, \"rgb(2,4,25)\"], [0.06274509803921569, \"rgb(24,15,41)\"], [0.12549019607843137, \"rgb(47,23,57)\"], [0.18823529411764706, \"rgb(71,28,72)\"], [0.25098039215686274, \"rgb(97,30,82)\"], [0.3137254901960784, \"rgb(123,30,89)\"], [0.3764705882352941, \"rgb(150,27,91)\"], [0.4392156862745098, \"rgb(177,22,88)\"], [0.5019607843137255, \"rgb(203,26,79)\"], [0.5647058823529412, \"rgb(223,47,67)\"], [0.6274509803921569, \"rgb(236,76,61)\"], [0.6901960784313725, \"rgb(242,107,73)\"], [0.7529411764705882, \"rgb(244,135,95)\"], [0.8156862745098039, \"rgb(245,162,122)\"], [0.8784313725490196, \"rgb(246,188,153)\"], [0.9411764705882353, \"rgb(247,212,187)\"], [1.0, \"rgb(250,234,220)\"]], \"type\": \"heatmap\"}], \"heatmapgl\": [{\"colorbar\": {\"outlinewidth\": 0, \"tickcolor\": \"rgb(36,36,36)\", \"ticklen\": 8, \"ticks\": \"outside\", \"tickwidth\": 2}, \"colorscale\": [[0.0, \"rgb(2,4,25)\"], [0.06274509803921569, \"rgb(24,15,41)\"], [0.12549019607843137, \"rgb(47,23,57)\"], [0.18823529411764706, \"rgb(71,28,72)\"], [0.25098039215686274, \"rgb(97,30,82)\"], [0.3137254901960784, \"rgb(123,30,89)\"], [0.3764705882352941, \"rgb(150,27,91)\"], [0.4392156862745098, \"rgb(177,22,88)\"], [0.5019607843137255, \"rgb(203,26,79)\"], [0.5647058823529412, \"rgb(223,47,67)\"], [0.6274509803921569, \"rgb(236,76,61)\"], [0.6901960784313725, \"rgb(242,107,73)\"], [0.7529411764705882, \"rgb(244,135,95)\"], [0.8156862745098039, \"rgb(245,162,122)\"], [0.8784313725490196, \"rgb(246,188,153)\"], [0.9411764705882353, \"rgb(247,212,187)\"], [1.0, \"rgb(250,234,220)\"]], \"type\": \"heatmapgl\"}], \"histogram\": [{\"marker\": {\"colorbar\": {\"outlinewidth\": 0, \"tickcolor\": \"rgb(36,36,36)\", \"ticklen\": 8, \"ticks\": \"outside\", \"tickwidth\": 2}}, \"type\": \"histogram\"}], \"histogram2d\": [{\"colorbar\": {\"outlinewidth\": 0, \"tickcolor\": \"rgb(36,36,36)\", \"ticklen\": 8, \"ticks\": \"outside\", \"tickwidth\": 2}, \"colorscale\": [[0.0, \"rgb(2,4,25)\"], [0.06274509803921569, \"rgb(24,15,41)\"], [0.12549019607843137, \"rgb(47,23,57)\"], [0.18823529411764706, \"rgb(71,28,72)\"], [0.25098039215686274, \"rgb(97,30,82)\"], [0.3137254901960784, \"rgb(123,30,89)\"], [0.3764705882352941, \"rgb(150,27,91)\"], [0.4392156862745098, \"rgb(177,22,88)\"], [0.5019607843137255, \"rgb(203,26,79)\"], [0.5647058823529412, \"rgb(223,47,67)\"], [0.6274509803921569, \"rgb(236,76,61)\"], [0.6901960784313725, \"rgb(242,107,73)\"], [0.7529411764705882, \"rgb(244,135,95)\"], [0.8156862745098039, \"rgb(245,162,122)\"], [0.8784313725490196, \"rgb(246,188,153)\"], [0.9411764705882353, \"rgb(247,212,187)\"], [1.0, \"rgb(250,234,220)\"]], \"type\": \"histogram2d\"}], \"histogram2dcontour\": [{\"colorbar\": {\"outlinewidth\": 0, \"tickcolor\": \"rgb(36,36,36)\", \"ticklen\": 8, \"ticks\": \"outside\", \"tickwidth\": 2}, \"colorscale\": [[0.0, \"rgb(2,4,25)\"], [0.06274509803921569, \"rgb(24,15,41)\"], [0.12549019607843137, \"rgb(47,23,57)\"], [0.18823529411764706, \"rgb(71,28,72)\"], [0.25098039215686274, \"rgb(97,30,82)\"], [0.3137254901960784, \"rgb(123,30,89)\"], [0.3764705882352941, \"rgb(150,27,91)\"], [0.4392156862745098, \"rgb(177,22,88)\"], [0.5019607843137255, \"rgb(203,26,79)\"], [0.5647058823529412, \"rgb(223,47,67)\"], [0.6274509803921569, \"rgb(236,76,61)\"], [0.6901960784313725, \"rgb(242,107,73)\"], [0.7529411764705882, \"rgb(244,135,95)\"], [0.8156862745098039, \"rgb(245,162,122)\"], [0.8784313725490196, \"rgb(246,188,153)\"], [0.9411764705882353, \"rgb(247,212,187)\"], [1.0, \"rgb(250,234,220)\"]], \"type\": \"histogram2dcontour\"}], \"mesh3d\": [{\"colorbar\": {\"outlinewidth\": 0, \"tickcolor\": \"rgb(36,36,36)\", \"ticklen\": 8, \"ticks\": \"outside\", \"tickwidth\": 2}, \"type\": \"mesh3d\"}], \"parcoords\": [{\"line\": {\"colorbar\": {\"outlinewidth\": 0, \"tickcolor\": \"rgb(36,36,36)\", \"ticklen\": 8, \"ticks\": \"outside\", \"tickwidth\": 2}}, \"type\": \"parcoords\"}], \"pie\": [{\"automargin\": true, \"type\": \"pie\"}], \"scatter\": [{\"marker\": {\"colorbar\": {\"outlinewidth\": 0, \"tickcolor\": \"rgb(36,36,36)\", \"ticklen\": 8, \"ticks\": \"outside\", \"tickwidth\": 2}}, \"type\": \"scatter\"}], \"scatter3d\": [{\"line\": {\"colorbar\": {\"outlinewidth\": 0, \"tickcolor\": \"rgb(36,36,36)\", \"ticklen\": 8, \"ticks\": \"outside\", \"tickwidth\": 2}}, \"marker\": {\"colorbar\": {\"outlinewidth\": 0, \"tickcolor\": \"rgb(36,36,36)\", \"ticklen\": 8, \"ticks\": \"outside\", \"tickwidth\": 2}}, \"type\": \"scatter3d\"}], \"scattercarpet\": [{\"marker\": {\"colorbar\": {\"outlinewidth\": 0, \"tickcolor\": \"rgb(36,36,36)\", \"ticklen\": 8, \"ticks\": \"outside\", \"tickwidth\": 2}}, \"type\": \"scattercarpet\"}], \"scattergeo\": [{\"marker\": {\"colorbar\": {\"outlinewidth\": 0, \"tickcolor\": \"rgb(36,36,36)\", \"ticklen\": 8, \"ticks\": \"outside\", \"tickwidth\": 2}}, \"type\": \"scattergeo\"}], \"scattergl\": [{\"marker\": {\"colorbar\": {\"outlinewidth\": 0, \"tickcolor\": \"rgb(36,36,36)\", \"ticklen\": 8, \"ticks\": \"outside\", \"tickwidth\": 2}}, \"type\": \"scattergl\"}], \"scattermapbox\": [{\"marker\": {\"colorbar\": {\"outlinewidth\": 0, \"tickcolor\": \"rgb(36,36,36)\", \"ticklen\": 8, \"ticks\": \"outside\", \"tickwidth\": 2}}, \"type\": \"scattermapbox\"}], \"scatterpolar\": [{\"marker\": {\"colorbar\": {\"outlinewidth\": 0, \"tickcolor\": \"rgb(36,36,36)\", \"ticklen\": 8, \"ticks\": \"outside\", \"tickwidth\": 2}}, \"type\": \"scatterpolar\"}], \"scatterpolargl\": [{\"marker\": {\"colorbar\": {\"outlinewidth\": 0, \"tickcolor\": \"rgb(36,36,36)\", \"ticklen\": 8, \"ticks\": \"outside\", \"tickwidth\": 2}}, \"type\": \"scatterpolargl\"}], \"scatterternary\": [{\"marker\": {\"colorbar\": {\"outlinewidth\": 0, \"tickcolor\": \"rgb(36,36,36)\", \"ticklen\": 8, \"ticks\": \"outside\", \"tickwidth\": 2}}, \"type\": \"scatterternary\"}], \"surface\": [{\"colorbar\": {\"outlinewidth\": 0, \"tickcolor\": \"rgb(36,36,36)\", \"ticklen\": 8, \"ticks\": \"outside\", \"tickwidth\": 2}, \"colorscale\": [[0.0, \"rgb(2,4,25)\"], [0.06274509803921569, \"rgb(24,15,41)\"], [0.12549019607843137, \"rgb(47,23,57)\"], [0.18823529411764706, \"rgb(71,28,72)\"], [0.25098039215686274, \"rgb(97,30,82)\"], [0.3137254901960784, \"rgb(123,30,89)\"], [0.3764705882352941, \"rgb(150,27,91)\"], [0.4392156862745098, \"rgb(177,22,88)\"], [0.5019607843137255, \"rgb(203,26,79)\"], [0.5647058823529412, \"rgb(223,47,67)\"], [0.6274509803921569, \"rgb(236,76,61)\"], [0.6901960784313725, \"rgb(242,107,73)\"], [0.7529411764705882, \"rgb(244,135,95)\"], [0.8156862745098039, \"rgb(245,162,122)\"], [0.8784313725490196, \"rgb(246,188,153)\"], [0.9411764705882353, \"rgb(247,212,187)\"], [1.0, \"rgb(250,234,220)\"]], \"type\": \"surface\"}], \"table\": [{\"cells\": {\"fill\": {\"color\": \"rgb(231,231,240)\"}, \"line\": {\"color\": \"white\"}}, \"header\": {\"fill\": {\"color\": \"rgb(183,183,191)\"}, \"line\": {\"color\": \"white\"}}, \"type\": \"table\"}]}, \"layout\": {\"annotationdefaults\": {\"arrowcolor\": \"rgb(67,103,167)\"}, \"autotypenumbers\": \"strict\", \"coloraxis\": {\"colorbar\": {\"outlinewidth\": 0, \"tickcolor\": \"rgb(36,36,36)\", \"ticklen\": 8, \"ticks\": \"outside\", \"tickwidth\": 2}}, \"colorscale\": {\"sequential\": [[0.0, \"rgb(2,4,25)\"], [0.06274509803921569, \"rgb(24,15,41)\"], [0.12549019607843137, \"rgb(47,23,57)\"], [0.18823529411764706, \"rgb(71,28,72)\"], [0.25098039215686274, \"rgb(97,30,82)\"], [0.3137254901960784, \"rgb(123,30,89)\"], [0.3764705882352941, \"rgb(150,27,91)\"], [0.4392156862745098, \"rgb(177,22,88)\"], [0.5019607843137255, \"rgb(203,26,79)\"], [0.5647058823529412, \"rgb(223,47,67)\"], [0.6274509803921569, \"rgb(236,76,61)\"], [0.6901960784313725, \"rgb(242,107,73)\"], [0.7529411764705882, \"rgb(244,135,95)\"], [0.8156862745098039, \"rgb(245,162,122)\"], [0.8784313725490196, \"rgb(246,188,153)\"], [0.9411764705882353, \"rgb(247,212,187)\"], [1.0, \"rgb(250,234,220)\"]], \"sequentialminus\": [[0.0, \"rgb(2,4,25)\"], [0.06274509803921569, \"rgb(24,15,41)\"], [0.12549019607843137, \"rgb(47,23,57)\"], [0.18823529411764706, \"rgb(71,28,72)\"], [0.25098039215686274, \"rgb(97,30,82)\"], [0.3137254901960784, \"rgb(123,30,89)\"], [0.3764705882352941, \"rgb(150,27,91)\"], [0.4392156862745098, \"rgb(177,22,88)\"], [0.5019607843137255, \"rgb(203,26,79)\"], [0.5647058823529412, \"rgb(223,47,67)\"], [0.6274509803921569, \"rgb(236,76,61)\"], [0.6901960784313725, \"rgb(242,107,73)\"], [0.7529411764705882, \"rgb(244,135,95)\"], [0.8156862745098039, \"rgb(245,162,122)\"], [0.8784313725490196, \"rgb(246,188,153)\"], [0.9411764705882353, \"rgb(247,212,187)\"], [1.0, \"rgb(250,234,220)\"]]}, \"colorway\": [\"rgb(76,114,176)\", \"rgb(221,132,82)\", \"rgb(85,168,104)\", \"rgb(196,78,82)\", \"rgb(129,114,179)\", \"rgb(147,120,96)\", \"rgb(218,139,195)\", \"rgb(140,140,140)\", \"rgb(204,185,116)\", \"rgb(100,181,205)\"], \"font\": {\"color\": \"rgb(36,36,36)\"}, \"geo\": {\"bgcolor\": \"white\", \"lakecolor\": \"white\", \"landcolor\": \"rgb(234,234,242)\", \"showlakes\": true, \"showland\": true, \"subunitcolor\": \"white\"}, \"hoverlabel\": {\"align\": \"left\"}, \"hovermode\": \"closest\", \"paper_bgcolor\": \"white\", \"plot_bgcolor\": \"rgb(234,234,242)\", \"polar\": {\"angularaxis\": {\"gridcolor\": \"white\", \"linecolor\": \"white\", \"showgrid\": true, \"ticks\": \"\"}, \"bgcolor\": \"rgb(234,234,242)\", \"radialaxis\": {\"gridcolor\": \"white\", \"linecolor\": \"white\", \"showgrid\": true, \"ticks\": \"\"}}, \"scene\": {\"xaxis\": {\"backgroundcolor\": \"rgb(234,234,242)\", \"gridcolor\": \"white\", \"gridwidth\": 2, \"linecolor\": \"white\", \"showbackground\": true, \"showgrid\": true, \"ticks\": \"\", \"zerolinecolor\": \"white\"}, \"yaxis\": {\"backgroundcolor\": \"rgb(234,234,242)\", \"gridcolor\": \"white\", \"gridwidth\": 2, \"linecolor\": \"white\", \"showbackground\": true, \"showgrid\": true, \"ticks\": \"\", \"zerolinecolor\": \"white\"}, \"zaxis\": {\"backgroundcolor\": \"rgb(234,234,242)\", \"gridcolor\": \"white\", \"gridwidth\": 2, \"linecolor\": \"white\", \"showbackground\": true, \"showgrid\": true, \"ticks\": \"\", \"zerolinecolor\": \"white\"}}, \"shapedefaults\": {\"fillcolor\": \"rgb(67,103,167)\", \"line\": {\"width\": 0}, \"opacity\": 0.5}, \"ternary\": {\"aaxis\": {\"gridcolor\": \"white\", \"linecolor\": \"white\", \"showgrid\": true, \"ticks\": \"\"}, \"baxis\": {\"gridcolor\": \"white\", \"linecolor\": \"white\", \"showgrid\": true, \"ticks\": \"\"}, \"bgcolor\": \"rgb(234,234,242)\", \"caxis\": {\"gridcolor\": \"white\", \"linecolor\": \"white\", \"showgrid\": true, \"ticks\": \"\"}}, \"xaxis\": {\"automargin\": true, \"gridcolor\": \"white\", \"linecolor\": \"white\", \"showgrid\": true, \"ticks\": \"\", \"title\": {\"standoff\": 15}, \"zerolinecolor\": \"white\"}, \"yaxis\": {\"automargin\": true, \"gridcolor\": \"white\", \"linecolor\": \"white\", \"showgrid\": true, \"ticks\": \"\", \"title\": {\"standoff\": 15}, \"zerolinecolor\": \"white\"}}}, \"title\": {\"text\": \"Score increase after a given transaction\"}, \"xaxis\": {\"anchor\": \"y\", \"domain\": [0.0, 1.0], \"title\": {\"text\": \"\\u0394 fifa score after 2 yers\"}}, \"yaxis\": {\"anchor\": \"x\", \"domain\": [0.0, 1.0], \"title\": {\"text\": \"transaction name\"}}},                        {\"responsive\": true}                    )                };                            </script>        </div>\n",
       "</body>\n",
       "</html>"
      ],
      "text/plain": [
       "<IPython.core.display.HTML object>"
      ]
     },
     "execution_count": 32,
     "metadata": {},
     "output_type": "execute_result"
    }
   ],
   "source": [
    "#hide input\n",
    "HTML(px.bar(transactions_with_scores,\n",
    "    template=\"seaborn\",\n",
    "    y=\"transaction name\", \n",
    "    x=\"score_delta\", \n",
    "    title=\"Score increase after a given transaction\",\n",
    "    labels={\"score_delta\" : \"Δ fifa score after 2 yers\"},\n",
    "    height=1000).to_html(include_plotlyjs='cdn'))"
   ]
  },
  {
   "cell_type": "markdown",
   "metadata": {},
   "source": [
    "# Analysis B: Calculate performance in years after purchase"
   ]
  },
  {
   "cell_type": "markdown",
   "metadata": {},
   "source": [
    "Given [countless evidence of how irrational humans are](https://en.wikipedia.org/wiki/Behavioral_economics#:~:text=Behavioral%20economics%20(also%2C%20behavioural%20economics,implied%20by%20classical%20economic%20theory.), it's fair to assume that the purchase price is not always a reasonable market price. \n",
    "\n",
    "In that case, how could one determine the best deals?\n",
    "One potential metric is value delivery for money invested. Notice this is not only your classical value for money, given value is not a static parameter here, and it changes every year.\n",
    "\n",
    "`avg. value delivered = SUM(value) for each year after purchase / #year`\n"
   ]
  },
  {
   "cell_type": "markdown",
   "metadata": {},
   "source": [
    "## Match the club name"
   ]
  },
  {
   "cell_type": "markdown",
   "metadata": {},
   "source": [
    "To get the performance of the players before joining a club, we need to again have the same values in the club column, i.e. match `Barcelona` with `FC Barcelona`."
   ]
  },
  {
   "cell_type": "code",
   "execution_count": 33,
   "metadata": {
    "execution": {
     "iopub.execute_input": "2021-04-07T21:17:13.398667Z",
     "iopub.status.busy": "2021-04-07T21:17:13.396428Z",
     "iopub.status.idle": "2021-04-07T21:17:13.418920Z",
     "shell.execute_reply": "2021-04-07T21:17:13.417990Z",
     "shell.execute_reply.started": "2021-04-07T21:17:13.398598Z"
    }
   },
   "outputs": [],
   "source": [
    "clubs = pd.DataFrame({'club_name' : all['club_name'].unique()}).head(2000)"
   ]
  },
  {
   "cell_type": "markdown",
   "metadata": {},
   "source": [
    "Match the name of the buyer club as it is in the FIFA in a new column"
   ]
  },
  {
   "cell_type": "code",
   "execution_count": 34,
   "metadata": {
    "execution": {
     "iopub.execute_input": "2021-04-07T21:17:13.423045Z",
     "iopub.status.busy": "2021-04-07T21:17:13.422590Z",
     "iopub.status.idle": "2021-04-07T21:17:17.285590Z",
     "shell.execute_reply": "2021-04-07T21:17:17.284588Z",
     "shell.execute_reply.started": "2021-04-07T21:17:13.423013Z"
    }
   },
   "outputs": [],
   "source": [
    "matched_transactions = fuzzy_merge(matched_transactions, clubs, 'To', 'club_name', threshold=60, limit=1)"
   ]
  },
  {
   "cell_type": "code",
   "execution_count": 35,
   "metadata": {
    "execution": {
     "iopub.execute_input": "2021-04-07T21:17:17.290830Z",
     "iopub.status.busy": "2021-04-07T21:17:17.288092Z",
     "iopub.status.idle": "2021-04-07T21:17:17.298566Z",
     "shell.execute_reply": "2021-04-07T21:17:17.295832Z",
     "shell.execute_reply.started": "2021-04-07T21:17:17.288636Z"
    }
   },
   "outputs": [],
   "source": [
    "matched_transactions = matched_transactions.rename(\n",
    "    columns={\"matches\" : \"buyer_club\"})"
   ]
  },
  {
   "cell_type": "code",
   "execution_count": 36,
   "metadata": {
    "execution": {
     "iopub.execute_input": "2021-04-07T21:17:17.301899Z",
     "iopub.status.busy": "2021-04-07T21:17:17.301543Z",
     "iopub.status.idle": "2021-04-07T21:17:17.326126Z",
     "shell.execute_reply": "2021-04-07T21:17:17.322838Z",
     "shell.execute_reply.started": "2021-04-07T21:17:17.301872Z"
    }
   },
   "outputs": [
    {
     "data": {
      "text/html": [
       "<div>\n",
       "<style scoped>\n",
       "    .dataframe tbody tr th:only-of-type {\n",
       "        vertical-align: middle;\n",
       "    }\n",
       "\n",
       "    .dataframe tbody tr th {\n",
       "        vertical-align: top;\n",
       "    }\n",
       "\n",
       "    .dataframe thead th {\n",
       "        text-align: right;\n",
       "    }\n",
       "</style>\n",
       "<table border=\"1\" class=\"dataframe\">\n",
       "  <thead>\n",
       "    <tr style=\"text-align: right;\">\n",
       "      <th></th>\n",
       "      <th>Player</th>\n",
       "      <th>From</th>\n",
       "      <th>To</th>\n",
       "      <th>fee</th>\n",
       "      <th>transaction_year</th>\n",
       "      <th>fifa_name</th>\n",
       "      <th>+2y</th>\n",
       "      <th>buyer_club</th>\n",
       "    </tr>\n",
       "  </thead>\n",
       "  <tbody>\n",
       "    <tr>\n",
       "      <th>0</th>\n",
       "      <td>Neymar</td>\n",
       "      <td>Barcelona</td>\n",
       "      <td>Paris Saint-Germain</td>\n",
       "      <td>222</td>\n",
       "      <td>2017</td>\n",
       "      <td>Neymar da Silva Santos Júnior</td>\n",
       "      <td>2019</td>\n",
       "      <td>Paris Saint-Germain</td>\n",
       "    </tr>\n",
       "    <tr>\n",
       "      <th>1</th>\n",
       "      <td>Kylian Mbappé</td>\n",
       "      <td>Monaco</td>\n",
       "      <td>Paris Saint-Germain</td>\n",
       "      <td>180</td>\n",
       "      <td>2018</td>\n",
       "      <td>Kylian Mbappé Lottin</td>\n",
       "      <td>2020</td>\n",
       "      <td>Paris Saint-Germain</td>\n",
       "    </tr>\n",
       "    <tr>\n",
       "      <th>2</th>\n",
       "      <td>Philippe Coutinho</td>\n",
       "      <td>Liverpool</td>\n",
       "      <td>Barcelona</td>\n",
       "      <td>145</td>\n",
       "      <td>2018</td>\n",
       "      <td>Philippe Coutinho Correia</td>\n",
       "      <td>2020</td>\n",
       "      <td>FC Barcelona</td>\n",
       "    </tr>\n",
       "    <tr>\n",
       "      <th>3</th>\n",
       "      <td>João Félix</td>\n",
       "      <td>Benfica</td>\n",
       "      <td>Atlético Madrid</td>\n",
       "      <td>126</td>\n",
       "      <td>2019</td>\n",
       "      <td>João Félix Sequeira</td>\n",
       "      <td>2021</td>\n",
       "      <td>Atlético Madrid</td>\n",
       "    </tr>\n",
       "    <tr>\n",
       "      <th>4</th>\n",
       "      <td>Antoine Griezmann</td>\n",
       "      <td>Atlético Madrid</td>\n",
       "      <td>Barcelona</td>\n",
       "      <td>120</td>\n",
       "      <td>2019</td>\n",
       "      <td>Antoine Griezmann</td>\n",
       "      <td>2021</td>\n",
       "      <td>FC Barcelona</td>\n",
       "    </tr>\n",
       "  </tbody>\n",
       "</table>\n",
       "</div>"
      ],
      "text/plain": [
       "              Player             From                   To  fee  \\\n",
       "0             Neymar        Barcelona  Paris Saint-Germain  222   \n",
       "1      Kylian Mbappé           Monaco  Paris Saint-Germain  180   \n",
       "2  Philippe Coutinho        Liverpool            Barcelona  145   \n",
       "3         João Félix          Benfica      Atlético Madrid  126   \n",
       "4  Antoine Griezmann  Atlético Madrid            Barcelona  120   \n",
       "\n",
       "   transaction_year                      fifa_name   +2y           buyer_club  \n",
       "0              2017  Neymar da Silva Santos Júnior  2019  Paris Saint-Germain  \n",
       "1              2018           Kylian Mbappé Lottin  2020  Paris Saint-Germain  \n",
       "2              2018      Philippe Coutinho Correia  2020         FC Barcelona  \n",
       "3              2019            João Félix Sequeira  2021      Atlético Madrid  \n",
       "4              2019              Antoine Griezmann  2021         FC Barcelona  "
      ]
     },
     "execution_count": 36,
     "metadata": {},
     "output_type": "execute_result"
    }
   ],
   "source": [
    "#hide_input\n",
    "matched_transactions.head()"
   ]
  },
  {
   "cell_type": "markdown",
   "metadata": {},
   "source": [
    "## Get yearly performance & club info"
   ]
  },
  {
   "cell_type": "code",
   "execution_count": 37,
   "metadata": {
    "execution": {
     "iopub.execute_input": "2021-04-07T21:17:17.330617Z",
     "iopub.status.busy": "2021-04-07T21:17:17.330098Z",
     "iopub.status.idle": "2021-04-07T21:17:17.345343Z",
     "shell.execute_reply": "2021-04-07T21:17:17.343519Z",
     "shell.execute_reply.started": "2021-04-07T21:17:17.330578Z"
    }
   },
   "outputs": [],
   "source": [
    "performance_time_club = all.filter(\n",
    "    items=[\"year\",\"long_name\",\"overall\",\"club_name\",\"value_eur\"])"
   ]
  },
  {
   "cell_type": "code",
   "execution_count": 38,
   "metadata": {
    "execution": {
     "iopub.execute_input": "2021-04-07T21:17:17.349262Z",
     "iopub.status.busy": "2021-04-07T21:17:17.348191Z",
     "iopub.status.idle": "2021-04-07T21:17:17.363678Z",
     "shell.execute_reply": "2021-04-07T21:17:17.362691Z",
     "shell.execute_reply.started": "2021-04-07T21:17:17.349165Z"
    }
   },
   "outputs": [],
   "source": [
    "performance_time_club = performance_time_club.rename(\n",
    "    columns={\"year\" : \"score_year\", \"long_name\" : \"fifa_name\", \"overall\" : \"score\"})"
   ]
  },
  {
   "cell_type": "code",
   "execution_count": 39,
   "metadata": {
    "execution": {
     "iopub.execute_input": "2021-04-07T21:17:17.367091Z",
     "iopub.status.busy": "2021-04-07T21:17:17.366711Z",
     "iopub.status.idle": "2021-04-07T21:17:17.386101Z",
     "shell.execute_reply": "2021-04-07T21:17:17.382949Z",
     "shell.execute_reply.started": "2021-04-07T21:17:17.367062Z"
    }
   },
   "outputs": [
    {
     "data": {
      "text/html": [
       "<div>\n",
       "<style scoped>\n",
       "    .dataframe tbody tr th:only-of-type {\n",
       "        vertical-align: middle;\n",
       "    }\n",
       "\n",
       "    .dataframe tbody tr th {\n",
       "        vertical-align: top;\n",
       "    }\n",
       "\n",
       "    .dataframe thead th {\n",
       "        text-align: right;\n",
       "    }\n",
       "</style>\n",
       "<table border=\"1\" class=\"dataframe\">\n",
       "  <thead>\n",
       "    <tr style=\"text-align: right;\">\n",
       "      <th></th>\n",
       "      <th>score_year</th>\n",
       "      <th>fifa_name</th>\n",
       "      <th>score</th>\n",
       "      <th>club_name</th>\n",
       "      <th>value_eur</th>\n",
       "    </tr>\n",
       "  </thead>\n",
       "  <tbody>\n",
       "    <tr>\n",
       "      <th>0</th>\n",
       "      <td>2021</td>\n",
       "      <td>Lionel Andrés Messi Cuccittini</td>\n",
       "      <td>93</td>\n",
       "      <td>FC Barcelona</td>\n",
       "      <td>67500000</td>\n",
       "    </tr>\n",
       "    <tr>\n",
       "      <th>1</th>\n",
       "      <td>2021</td>\n",
       "      <td>Cristiano Ronaldo dos Santos Aveiro</td>\n",
       "      <td>92</td>\n",
       "      <td>Juventus</td>\n",
       "      <td>46000000</td>\n",
       "    </tr>\n",
       "    <tr>\n",
       "      <th>2</th>\n",
       "      <td>2021</td>\n",
       "      <td>Jan Oblak</td>\n",
       "      <td>91</td>\n",
       "      <td>Atlético Madrid</td>\n",
       "      <td>75000000</td>\n",
       "    </tr>\n",
       "    <tr>\n",
       "      <th>3</th>\n",
       "      <td>2021</td>\n",
       "      <td>Robert Lewandowski</td>\n",
       "      <td>91</td>\n",
       "      <td>FC Bayern München</td>\n",
       "      <td>80000000</td>\n",
       "    </tr>\n",
       "    <tr>\n",
       "      <th>4</th>\n",
       "      <td>2021</td>\n",
       "      <td>Neymar da Silva Santos Júnior</td>\n",
       "      <td>91</td>\n",
       "      <td>Paris Saint-Germain</td>\n",
       "      <td>90000000</td>\n",
       "    </tr>\n",
       "  </tbody>\n",
       "</table>\n",
       "</div>"
      ],
      "text/plain": [
       "   score_year                            fifa_name  score  \\\n",
       "0        2021       Lionel Andrés Messi Cuccittini     93   \n",
       "1        2021  Cristiano Ronaldo dos Santos Aveiro     92   \n",
       "2        2021                            Jan Oblak     91   \n",
       "3        2021                   Robert Lewandowski     91   \n",
       "4        2021        Neymar da Silva Santos Júnior     91   \n",
       "\n",
       "             club_name  value_eur  \n",
       "0         FC Barcelona   67500000  \n",
       "1             Juventus   46000000  \n",
       "2      Atlético Madrid   75000000  \n",
       "3    FC Bayern München   80000000  \n",
       "4  Paris Saint-Germain   90000000  "
      ]
     },
     "execution_count": 39,
     "metadata": {},
     "output_type": "execute_result"
    }
   ],
   "source": [
    "#hide_input\n",
    "performance_time_club.head()"
   ]
  },
  {
   "cell_type": "markdown",
   "metadata": {},
   "source": [
    "## Merge with performance"
   ]
  },
  {
   "cell_type": "markdown",
   "metadata": {},
   "source": [
    "For each of the transactions, get all the performance rows for the same player"
   ]
  },
  {
   "cell_type": "code",
   "execution_count": 40,
   "metadata": {
    "execution": {
     "iopub.execute_input": "2021-04-07T21:17:17.391404Z",
     "iopub.status.busy": "2021-04-07T21:17:17.390425Z",
     "iopub.status.idle": "2021-04-07T21:17:17.474908Z",
     "shell.execute_reply": "2021-04-07T21:17:17.474065Z",
     "shell.execute_reply.started": "2021-04-07T21:17:17.391342Z"
    }
   },
   "outputs": [],
   "source": [
    "matched_transactions = matched_transactions.merge(\n",
    "    right=performance_time_club, \n",
    "    how=\"inner\", \n",
    "    left_on=[\"fifa_name\"], \n",
    "    right_on=[\"fifa_name\"])"
   ]
  },
  {
   "cell_type": "code",
   "execution_count": 41,
   "metadata": {
    "execution": {
     "iopub.execute_input": "2021-04-07T21:17:17.478371Z",
     "iopub.status.busy": "2021-04-07T21:17:17.478012Z",
     "iopub.status.idle": "2021-04-07T21:17:17.507435Z",
     "shell.execute_reply": "2021-04-07T21:17:17.506408Z",
     "shell.execute_reply.started": "2021-04-07T21:17:17.478343Z"
    }
   },
   "outputs": [
    {
     "data": {
      "text/html": [
       "<div>\n",
       "<style scoped>\n",
       "    .dataframe tbody tr th:only-of-type {\n",
       "        vertical-align: middle;\n",
       "    }\n",
       "\n",
       "    .dataframe tbody tr th {\n",
       "        vertical-align: top;\n",
       "    }\n",
       "\n",
       "    .dataframe thead th {\n",
       "        text-align: right;\n",
       "    }\n",
       "</style>\n",
       "<table border=\"1\" class=\"dataframe\">\n",
       "  <thead>\n",
       "    <tr style=\"text-align: right;\">\n",
       "      <th></th>\n",
       "      <th>Player</th>\n",
       "      <th>From</th>\n",
       "      <th>To</th>\n",
       "      <th>fee</th>\n",
       "      <th>transaction_year</th>\n",
       "      <th>fifa_name</th>\n",
       "      <th>+2y</th>\n",
       "      <th>buyer_club</th>\n",
       "      <th>score_year</th>\n",
       "      <th>score</th>\n",
       "      <th>club_name</th>\n",
       "      <th>value_eur</th>\n",
       "    </tr>\n",
       "  </thead>\n",
       "  <tbody>\n",
       "    <tr>\n",
       "      <th>0</th>\n",
       "      <td>Neymar</td>\n",
       "      <td>Barcelona</td>\n",
       "      <td>Paris Saint-Germain</td>\n",
       "      <td>222</td>\n",
       "      <td>2017</td>\n",
       "      <td>Neymar da Silva Santos Júnior</td>\n",
       "      <td>2019</td>\n",
       "      <td>Paris Saint-Germain</td>\n",
       "      <td>2021</td>\n",
       "      <td>91</td>\n",
       "      <td>Paris Saint-Germain</td>\n",
       "      <td>90000000</td>\n",
       "    </tr>\n",
       "    <tr>\n",
       "      <th>1</th>\n",
       "      <td>Neymar</td>\n",
       "      <td>Barcelona</td>\n",
       "      <td>Paris Saint-Germain</td>\n",
       "      <td>222</td>\n",
       "      <td>2017</td>\n",
       "      <td>Neymar da Silva Santos Júnior</td>\n",
       "      <td>2019</td>\n",
       "      <td>Paris Saint-Germain</td>\n",
       "      <td>2020</td>\n",
       "      <td>92</td>\n",
       "      <td>Paris Saint-Germain</td>\n",
       "      <td>105500000</td>\n",
       "    </tr>\n",
       "    <tr>\n",
       "      <th>2</th>\n",
       "      <td>Neymar</td>\n",
       "      <td>Barcelona</td>\n",
       "      <td>Paris Saint-Germain</td>\n",
       "      <td>222</td>\n",
       "      <td>2017</td>\n",
       "      <td>Neymar da Silva Santos Júnior</td>\n",
       "      <td>2019</td>\n",
       "      <td>Paris Saint-Germain</td>\n",
       "      <td>2018</td>\n",
       "      <td>92</td>\n",
       "      <td>Paris Saint-Germain</td>\n",
       "      <td>123000000</td>\n",
       "    </tr>\n",
       "    <tr>\n",
       "      <th>3</th>\n",
       "      <td>Neymar</td>\n",
       "      <td>Barcelona</td>\n",
       "      <td>Paris Saint-Germain</td>\n",
       "      <td>222</td>\n",
       "      <td>2017</td>\n",
       "      <td>Neymar da Silva Santos Júnior</td>\n",
       "      <td>2019</td>\n",
       "      <td>Paris Saint-Germain</td>\n",
       "      <td>2019</td>\n",
       "      <td>92</td>\n",
       "      <td>Paris Saint-Germain</td>\n",
       "      <td>118500000</td>\n",
       "    </tr>\n",
       "    <tr>\n",
       "      <th>4</th>\n",
       "      <td>Neymar</td>\n",
       "      <td>Barcelona</td>\n",
       "      <td>Paris Saint-Germain</td>\n",
       "      <td>222</td>\n",
       "      <td>2017</td>\n",
       "      <td>Neymar da Silva Santos Júnior</td>\n",
       "      <td>2019</td>\n",
       "      <td>Paris Saint-Germain</td>\n",
       "      <td>2017</td>\n",
       "      <td>92</td>\n",
       "      <td>FC Barcelona</td>\n",
       "      <td>109000000</td>\n",
       "    </tr>\n",
       "  </tbody>\n",
       "</table>\n",
       "</div>"
      ],
      "text/plain": [
       "   Player       From                   To  fee  transaction_year  \\\n",
       "0  Neymar  Barcelona  Paris Saint-Germain  222              2017   \n",
       "1  Neymar  Barcelona  Paris Saint-Germain  222              2017   \n",
       "2  Neymar  Barcelona  Paris Saint-Germain  222              2017   \n",
       "3  Neymar  Barcelona  Paris Saint-Germain  222              2017   \n",
       "4  Neymar  Barcelona  Paris Saint-Germain  222              2017   \n",
       "\n",
       "                       fifa_name   +2y           buyer_club  score_year  \\\n",
       "0  Neymar da Silva Santos Júnior  2019  Paris Saint-Germain        2021   \n",
       "1  Neymar da Silva Santos Júnior  2019  Paris Saint-Germain        2020   \n",
       "2  Neymar da Silva Santos Júnior  2019  Paris Saint-Germain        2018   \n",
       "3  Neymar da Silva Santos Júnior  2019  Paris Saint-Germain        2019   \n",
       "4  Neymar da Silva Santos Júnior  2019  Paris Saint-Germain        2017   \n",
       "\n",
       "   score            club_name  value_eur  \n",
       "0     91  Paris Saint-Germain   90000000  \n",
       "1     92  Paris Saint-Germain  105500000  \n",
       "2     92  Paris Saint-Germain  123000000  \n",
       "3     92  Paris Saint-Germain  118500000  \n",
       "4     92         FC Barcelona  109000000  "
      ]
     },
     "execution_count": 41,
     "metadata": {},
     "output_type": "execute_result"
    }
   ],
   "source": [
    "#hide_input\n",
    "matched_transactions.head()"
   ]
  },
  {
   "cell_type": "markdown",
   "metadata": {},
   "source": [
    "## Get relevant datapoints after the transactions "
   ]
  },
  {
   "cell_type": "markdown",
   "metadata": {},
   "source": [
    "Keep only the performance for the years **after a transaction**, i.e. the value delivered to the buying club"
   ]
  },
  {
   "cell_type": "code",
   "execution_count": 42,
   "metadata": {
    "execution": {
     "iopub.execute_input": "2021-04-07T21:17:17.511516Z",
     "iopub.status.busy": "2021-04-07T21:17:17.510747Z",
     "iopub.status.idle": "2021-04-07T21:17:17.532440Z",
     "shell.execute_reply": "2021-04-07T21:17:17.529664Z",
     "shell.execute_reply.started": "2021-04-07T21:17:17.511427Z"
    }
   },
   "outputs": [],
   "source": [
    "matched_transactions = matched_transactions.query(\"transaction_year>=2015\")"
   ]
  },
  {
   "cell_type": "code",
   "execution_count": 43,
   "metadata": {
    "execution": {
     "iopub.execute_input": "2021-04-07T21:17:17.536906Z",
     "iopub.status.busy": "2021-04-07T21:17:17.536240Z",
     "iopub.status.idle": "2021-04-07T21:17:17.556875Z",
     "shell.execute_reply": "2021-04-07T21:17:17.555224Z",
     "shell.execute_reply.started": "2021-04-07T21:17:17.536848Z"
    }
   },
   "outputs": [],
   "source": [
    "matched_transactions['afer_purchase'] = matched_transactions.eval(\"buyer_club==club_name & score_year >= transaction_year\")"
   ]
  },
  {
   "cell_type": "code",
   "execution_count": 44,
   "metadata": {
    "execution": {
     "iopub.execute_input": "2021-04-07T21:17:17.560585Z",
     "iopub.status.busy": "2021-04-07T21:17:17.559330Z",
     "iopub.status.idle": "2021-04-07T21:17:17.575524Z",
     "shell.execute_reply": "2021-04-07T21:17:17.572849Z",
     "shell.execute_reply.started": "2021-04-07T21:17:17.560531Z"
    }
   },
   "outputs": [],
   "source": [
    "matched_transactions = matched_transactions.query(\"afer_purchase==True\", engine=\"python\").copy()"
   ]
  },
  {
   "cell_type": "code",
   "execution_count": 45,
   "metadata": {
    "execution": {
     "iopub.execute_input": "2021-04-07T21:17:17.583472Z",
     "iopub.status.busy": "2021-04-07T21:17:17.582733Z",
     "iopub.status.idle": "2021-04-07T21:17:17.592908Z",
     "shell.execute_reply": "2021-04-07T21:17:17.590584Z",
     "shell.execute_reply.started": "2021-04-07T21:17:17.583376Z"
    }
   },
   "outputs": [],
   "source": [
    "matched_transactions['transaction name'] = matched_transactions['Player'] + '-' + matched_transactions['transaction_year'].apply(lambda x: str(int(x)))"
   ]
  },
  {
   "cell_type": "markdown",
   "metadata": {},
   "source": [
    "## Final calculation"
   ]
  },
  {
   "cell_type": "code",
   "execution_count": 46,
   "metadata": {
    "execution": {
     "iopub.execute_input": "2021-04-07T21:17:17.596661Z",
     "iopub.status.busy": "2021-04-07T21:17:17.595506Z",
     "iopub.status.idle": "2021-04-07T21:17:17.658363Z",
     "shell.execute_reply": "2021-04-07T21:17:17.654311Z",
     "shell.execute_reply.started": "2021-04-07T21:17:17.596594Z"
    }
   },
   "outputs": [],
   "source": [
    "perf_after_transaction = matched_transactions.fdt.pivot_table(\n",
    "    index=[\"transaction name\",\"transaction_year\",\"fee\"], \n",
    "    index_type=\"flat\", \n",
    "    aggfunc={\"score\" : [\"sum\",\"size\"]})"
   ]
  },
  {
   "cell_type": "code",
   "execution_count": 47,
   "metadata": {
    "execution": {
     "iopub.execute_input": "2021-04-07T21:17:17.664533Z",
     "iopub.status.busy": "2021-04-07T21:17:17.663550Z",
     "iopub.status.idle": "2021-04-07T21:17:17.678064Z",
     "shell.execute_reply": "2021-04-07T21:17:17.676913Z",
     "shell.execute_reply.started": "2021-04-07T21:17:17.664431Z"
    }
   },
   "outputs": [],
   "source": [
    "perf_after_transaction['avg_performance'] = perf_after_transaction['score_sum']/perf_after_transaction['score_size']"
   ]
  },
  {
   "cell_type": "code",
   "execution_count": 48,
   "metadata": {
    "execution": {
     "iopub.execute_input": "2021-04-07T21:17:17.680928Z",
     "iopub.status.busy": "2021-04-07T21:17:17.680269Z",
     "iopub.status.idle": "2021-04-07T21:17:17.692293Z",
     "shell.execute_reply": "2021-04-07T21:17:17.689359Z",
     "shell.execute_reply.started": "2021-04-07T21:17:17.680893Z"
    }
   },
   "outputs": [],
   "source": [
    "perf_after_transaction['perf_per_eur'] = perf_after_transaction['avg_performance'] / perf_after_transaction['fee']"
   ]
  },
  {
   "cell_type": "markdown",
   "metadata": {},
   "source": [
    "## Result"
   ]
  },
  {
   "cell_type": "markdown",
   "metadata": {},
   "source": [
    "Sort data"
   ]
  },
  {
   "cell_type": "code",
   "execution_count": 49,
   "metadata": {
    "execution": {
     "iopub.execute_input": "2021-04-07T21:17:17.695752Z",
     "iopub.status.busy": "2021-04-07T21:17:17.694861Z",
     "iopub.status.idle": "2021-04-07T21:17:17.704791Z",
     "shell.execute_reply": "2021-04-07T21:17:17.703260Z",
     "shell.execute_reply.started": "2021-04-07T21:17:17.695666Z"
    }
   },
   "outputs": [],
   "source": [
    "perf_after_transaction = perf_after_transaction.sort_values(\n",
    "    by=\"perf_per_eur\", \n",
    "    ascending=True)"
   ]
  },
  {
   "cell_type": "markdown",
   "metadata": {},
   "source": [
    "It is not uncommon for companies to try several \"models\" of the world. One of the reasons is to be able to capture different nuances and perspectives.\n",
    "\n",
    "Sometimes, different models agree, and in this case, we see the purchase of Alisson by Liverpool in 2018 as a very well-performing transaction. But João Félix Sequeira, which we previously saw as the best transaction, did not perform that well under this metric, which helps us understand it was a good but expensive deal."
   ]
  },
  {
   "cell_type": "code",
   "execution_count": 50,
   "metadata": {
    "execution": {
     "iopub.execute_input": "2021-04-07T21:17:17.709721Z",
     "iopub.status.busy": "2021-04-07T21:17:17.709338Z",
     "iopub.status.idle": "2021-04-07T21:17:17.929660Z",
     "shell.execute_reply": "2021-04-07T21:17:17.922724Z",
     "shell.execute_reply.started": "2021-04-07T21:17:17.709686Z"
    }
   },
   "outputs": [
    {
     "data": {
      "text/html": [
       "<html>\n",
       "<head><meta charset=\"utf-8\" /></head>\n",
       "<body>\n",
       "    <div>                        <script type=\"text/javascript\">window.PlotlyConfig = {MathJaxConfig: 'local'};</script>\n",
       "        <script src=\"https://cdn.plot.ly/plotly-latest.min.js\"></script>                <div id=\"d0d1092a-4d42-4360-b134-3faa40a450fd\" class=\"plotly-graph-div\" style=\"height:1000px; width:100%;\"></div>            <script type=\"text/javascript\">                                    window.PLOTLYENV=window.PLOTLYENV || {};                                    if (document.getElementById(\"d0d1092a-4d42-4360-b134-3faa40a450fd\")) {                    Plotly.newPlot(                        \"d0d1092a-4d42-4360-b134-3faa40a450fd\",                        [{\"alignmentgroup\": \"True\", \"hovertemplate\": \"performance points [0-100] per mn. \\u20ac=%{x}<br>transaction name=%{y}<extra></extra>\", \"legendgroup\": \"\", \"marker\": {\"color\": \"rgb(76,114,176)\"}, \"name\": \"\", \"offsetgroup\": \"\", \"orientation\": \"h\", \"showlegend\": false, \"textposition\": \"auto\", \"type\": \"bar\", \"x\": [0.4132882882882883, 0.4847222222222222, 0.5896551724137931, 0.6388888888888888, 0.7333333333333333, 0.7904761904761904, 0.8323809523809524, 0.895, 0.93, 0.9425287356321839, 0.9740740740740741, 1.0176470588235293, 1.03125, 1.0375, 1.0375, 1.0515873015873016, 1.0625, 1.103896103896104, 1.1285714285714286, 1.1333333333333333, 1.1333333333333333, 1.1666666666666667, 1.1761904761904762, 1.191111111111111, 1.2142857142857142, 1.25, 1.263681592039801, 1.2846153846153847, 1.2846153846153847, 1.317948717948718, 1.3385416666666667, 1.3416666666666666, 1.3551912568306013, 1.3583333333333334, 1.3629032258064515, 1.3666666666666667, 1.3862433862433863, 1.4166666666666667, 1.4193548387096775], \"xaxis\": \"x\", \"y\": [\"Neymar-2017\", \"Kylian Mbapp\\u00e9-2018\", \"Philippe Coutinho-2018\", \"Jo\\u00e3o F\\u00e9lix-2019\", \"Antoine Griezmann-2019\", \"Ousmane Demb\\u00e9l\\u00e9-2017\", \"Paul Pogba-2016\", \"Eden Hazard-2019\", \"Cristiano Ronaldo-2018\", \"Harry Maguire-2019\", \"Gonzalo Higua\\u00edn-2016\", \"Romelu Lukaku-2017\", \"Nicolas P\\u00e9p\\u00e9-2019\", \"Lucas Hernandez-2019\", \"Kepa Arrizabalaga-2018\", \"Virgil van Dijk-2018\", \"Romelu Lukaku-2019\", \"Kai Havertz-2020\", \"Victor Osimhen-2020\", \"Matthijs de Ligt-2019\", \"Frenkie de Jong-2019\", \"Arthur-2020\", \"Thomas Lemar-2018\", \"Kevin De Bruyne-2015\", \"Rodri-2019\", \"Christian Pulisic-2019\", \"Riyad Mahrez-2018\", \"Jo\\u00e3o Cancelo-2019\", \"\\u00c1lvaro Morata-2017\", \"Aymeric Laporte-2018\", \"\\u00c1ngel Di Mar\\u00eda-2015\", \"Tanguy Ndombele-2019\", \"Oscar-2017\", \"Luka Jovi\\u0107-2019\", \"Raheem Sterling-2015\", \"Naby Ke\\u00efta-2018\", \"Pierre-Emerick Aubameyang-2018\", \"Miralem Pjani\\u0107-2020\", \"Alisson-2018\"], \"yaxis\": \"y\"}],                        {\"barmode\": \"relative\", \"height\": 1000, \"legend\": {\"tracegroupgap\": 0}, \"template\": {\"data\": {\"bar\": [{\"error_x\": {\"color\": \"rgb(36,36,36)\"}, \"error_y\": {\"color\": \"rgb(36,36,36)\"}, \"marker\": {\"line\": {\"color\": \"rgb(234,234,242)\", \"width\": 0.5}}, \"type\": \"bar\"}], \"barpolar\": [{\"marker\": {\"line\": {\"color\": \"rgb(234,234,242)\", \"width\": 0.5}}, \"type\": \"barpolar\"}], \"carpet\": [{\"aaxis\": {\"endlinecolor\": \"rgb(36,36,36)\", \"gridcolor\": \"white\", \"linecolor\": \"white\", \"minorgridcolor\": \"white\", \"startlinecolor\": \"rgb(36,36,36)\"}, \"baxis\": {\"endlinecolor\": \"rgb(36,36,36)\", \"gridcolor\": \"white\", \"linecolor\": \"white\", \"minorgridcolor\": \"white\", \"startlinecolor\": \"rgb(36,36,36)\"}, \"type\": \"carpet\"}], \"choropleth\": [{\"colorbar\": {\"outlinewidth\": 0, \"tickcolor\": \"rgb(36,36,36)\", \"ticklen\": 8, \"ticks\": \"outside\", \"tickwidth\": 2}, \"type\": \"choropleth\"}], \"contour\": [{\"colorbar\": {\"outlinewidth\": 0, \"tickcolor\": \"rgb(36,36,36)\", \"ticklen\": 8, \"ticks\": \"outside\", \"tickwidth\": 2}, \"colorscale\": [[0.0, \"rgb(2,4,25)\"], [0.06274509803921569, \"rgb(24,15,41)\"], [0.12549019607843137, \"rgb(47,23,57)\"], [0.18823529411764706, \"rgb(71,28,72)\"], [0.25098039215686274, \"rgb(97,30,82)\"], [0.3137254901960784, \"rgb(123,30,89)\"], [0.3764705882352941, \"rgb(150,27,91)\"], [0.4392156862745098, \"rgb(177,22,88)\"], [0.5019607843137255, \"rgb(203,26,79)\"], [0.5647058823529412, \"rgb(223,47,67)\"], [0.6274509803921569, \"rgb(236,76,61)\"], [0.6901960784313725, \"rgb(242,107,73)\"], [0.7529411764705882, \"rgb(244,135,95)\"], [0.8156862745098039, \"rgb(245,162,122)\"], [0.8784313725490196, \"rgb(246,188,153)\"], [0.9411764705882353, \"rgb(247,212,187)\"], [1.0, \"rgb(250,234,220)\"]], \"type\": \"contour\"}], \"contourcarpet\": [{\"colorbar\": {\"outlinewidth\": 0, \"tickcolor\": \"rgb(36,36,36)\", \"ticklen\": 8, \"ticks\": \"outside\", \"tickwidth\": 2}, \"type\": \"contourcarpet\"}], \"heatmap\": [{\"colorbar\": {\"outlinewidth\": 0, \"tickcolor\": \"rgb(36,36,36)\", \"ticklen\": 8, \"ticks\": \"outside\", \"tickwidth\": 2}, \"colorscale\": [[0.0, \"rgb(2,4,25)\"], [0.06274509803921569, \"rgb(24,15,41)\"], [0.12549019607843137, \"rgb(47,23,57)\"], [0.18823529411764706, \"rgb(71,28,72)\"], [0.25098039215686274, \"rgb(97,30,82)\"], [0.3137254901960784, \"rgb(123,30,89)\"], [0.3764705882352941, \"rgb(150,27,91)\"], [0.4392156862745098, \"rgb(177,22,88)\"], [0.5019607843137255, \"rgb(203,26,79)\"], [0.5647058823529412, \"rgb(223,47,67)\"], [0.6274509803921569, \"rgb(236,76,61)\"], [0.6901960784313725, \"rgb(242,107,73)\"], [0.7529411764705882, \"rgb(244,135,95)\"], [0.8156862745098039, \"rgb(245,162,122)\"], [0.8784313725490196, \"rgb(246,188,153)\"], [0.9411764705882353, \"rgb(247,212,187)\"], [1.0, \"rgb(250,234,220)\"]], \"type\": \"heatmap\"}], \"heatmapgl\": [{\"colorbar\": {\"outlinewidth\": 0, \"tickcolor\": \"rgb(36,36,36)\", \"ticklen\": 8, \"ticks\": \"outside\", \"tickwidth\": 2}, \"colorscale\": [[0.0, \"rgb(2,4,25)\"], [0.06274509803921569, \"rgb(24,15,41)\"], [0.12549019607843137, \"rgb(47,23,57)\"], [0.18823529411764706, \"rgb(71,28,72)\"], [0.25098039215686274, \"rgb(97,30,82)\"], [0.3137254901960784, \"rgb(123,30,89)\"], [0.3764705882352941, \"rgb(150,27,91)\"], [0.4392156862745098, \"rgb(177,22,88)\"], [0.5019607843137255, \"rgb(203,26,79)\"], [0.5647058823529412, \"rgb(223,47,67)\"], [0.6274509803921569, \"rgb(236,76,61)\"], [0.6901960784313725, \"rgb(242,107,73)\"], [0.7529411764705882, \"rgb(244,135,95)\"], [0.8156862745098039, \"rgb(245,162,122)\"], [0.8784313725490196, \"rgb(246,188,153)\"], [0.9411764705882353, \"rgb(247,212,187)\"], [1.0, \"rgb(250,234,220)\"]], \"type\": \"heatmapgl\"}], \"histogram\": [{\"marker\": {\"colorbar\": {\"outlinewidth\": 0, \"tickcolor\": \"rgb(36,36,36)\", \"ticklen\": 8, \"ticks\": \"outside\", \"tickwidth\": 2}}, \"type\": \"histogram\"}], \"histogram2d\": [{\"colorbar\": {\"outlinewidth\": 0, \"tickcolor\": \"rgb(36,36,36)\", \"ticklen\": 8, \"ticks\": \"outside\", \"tickwidth\": 2}, \"colorscale\": [[0.0, \"rgb(2,4,25)\"], [0.06274509803921569, \"rgb(24,15,41)\"], [0.12549019607843137, \"rgb(47,23,57)\"], [0.18823529411764706, \"rgb(71,28,72)\"], [0.25098039215686274, \"rgb(97,30,82)\"], [0.3137254901960784, \"rgb(123,30,89)\"], [0.3764705882352941, \"rgb(150,27,91)\"], [0.4392156862745098, \"rgb(177,22,88)\"], [0.5019607843137255, \"rgb(203,26,79)\"], [0.5647058823529412, \"rgb(223,47,67)\"], [0.6274509803921569, \"rgb(236,76,61)\"], [0.6901960784313725, \"rgb(242,107,73)\"], [0.7529411764705882, \"rgb(244,135,95)\"], [0.8156862745098039, \"rgb(245,162,122)\"], [0.8784313725490196, \"rgb(246,188,153)\"], [0.9411764705882353, \"rgb(247,212,187)\"], [1.0, \"rgb(250,234,220)\"]], \"type\": \"histogram2d\"}], \"histogram2dcontour\": [{\"colorbar\": {\"outlinewidth\": 0, \"tickcolor\": \"rgb(36,36,36)\", \"ticklen\": 8, \"ticks\": \"outside\", \"tickwidth\": 2}, \"colorscale\": [[0.0, \"rgb(2,4,25)\"], [0.06274509803921569, \"rgb(24,15,41)\"], [0.12549019607843137, \"rgb(47,23,57)\"], [0.18823529411764706, \"rgb(71,28,72)\"], [0.25098039215686274, \"rgb(97,30,82)\"], [0.3137254901960784, \"rgb(123,30,89)\"], [0.3764705882352941, \"rgb(150,27,91)\"], [0.4392156862745098, \"rgb(177,22,88)\"], [0.5019607843137255, \"rgb(203,26,79)\"], [0.5647058823529412, \"rgb(223,47,67)\"], [0.6274509803921569, \"rgb(236,76,61)\"], [0.6901960784313725, \"rgb(242,107,73)\"], [0.7529411764705882, \"rgb(244,135,95)\"], [0.8156862745098039, \"rgb(245,162,122)\"], [0.8784313725490196, \"rgb(246,188,153)\"], [0.9411764705882353, \"rgb(247,212,187)\"], [1.0, \"rgb(250,234,220)\"]], \"type\": \"histogram2dcontour\"}], \"mesh3d\": [{\"colorbar\": {\"outlinewidth\": 0, \"tickcolor\": \"rgb(36,36,36)\", \"ticklen\": 8, \"ticks\": \"outside\", \"tickwidth\": 2}, \"type\": \"mesh3d\"}], \"parcoords\": [{\"line\": {\"colorbar\": {\"outlinewidth\": 0, \"tickcolor\": \"rgb(36,36,36)\", \"ticklen\": 8, \"ticks\": \"outside\", \"tickwidth\": 2}}, \"type\": \"parcoords\"}], \"pie\": [{\"automargin\": true, \"type\": \"pie\"}], \"scatter\": [{\"marker\": {\"colorbar\": {\"outlinewidth\": 0, \"tickcolor\": \"rgb(36,36,36)\", \"ticklen\": 8, \"ticks\": \"outside\", \"tickwidth\": 2}}, \"type\": \"scatter\"}], \"scatter3d\": [{\"line\": {\"colorbar\": {\"outlinewidth\": 0, \"tickcolor\": \"rgb(36,36,36)\", \"ticklen\": 8, \"ticks\": \"outside\", \"tickwidth\": 2}}, \"marker\": {\"colorbar\": {\"outlinewidth\": 0, \"tickcolor\": \"rgb(36,36,36)\", \"ticklen\": 8, \"ticks\": \"outside\", \"tickwidth\": 2}}, \"type\": \"scatter3d\"}], \"scattercarpet\": [{\"marker\": {\"colorbar\": {\"outlinewidth\": 0, \"tickcolor\": \"rgb(36,36,36)\", \"ticklen\": 8, \"ticks\": \"outside\", \"tickwidth\": 2}}, \"type\": \"scattercarpet\"}], \"scattergeo\": [{\"marker\": {\"colorbar\": {\"outlinewidth\": 0, \"tickcolor\": \"rgb(36,36,36)\", \"ticklen\": 8, \"ticks\": \"outside\", \"tickwidth\": 2}}, \"type\": \"scattergeo\"}], \"scattergl\": [{\"marker\": {\"colorbar\": {\"outlinewidth\": 0, \"tickcolor\": \"rgb(36,36,36)\", \"ticklen\": 8, \"ticks\": \"outside\", \"tickwidth\": 2}}, \"type\": \"scattergl\"}], \"scattermapbox\": [{\"marker\": {\"colorbar\": {\"outlinewidth\": 0, \"tickcolor\": \"rgb(36,36,36)\", \"ticklen\": 8, \"ticks\": \"outside\", \"tickwidth\": 2}}, \"type\": \"scattermapbox\"}], \"scatterpolar\": [{\"marker\": {\"colorbar\": {\"outlinewidth\": 0, \"tickcolor\": \"rgb(36,36,36)\", \"ticklen\": 8, \"ticks\": \"outside\", \"tickwidth\": 2}}, \"type\": \"scatterpolar\"}], \"scatterpolargl\": [{\"marker\": {\"colorbar\": {\"outlinewidth\": 0, \"tickcolor\": \"rgb(36,36,36)\", \"ticklen\": 8, \"ticks\": \"outside\", \"tickwidth\": 2}}, \"type\": \"scatterpolargl\"}], \"scatterternary\": [{\"marker\": {\"colorbar\": {\"outlinewidth\": 0, \"tickcolor\": \"rgb(36,36,36)\", \"ticklen\": 8, \"ticks\": \"outside\", \"tickwidth\": 2}}, \"type\": \"scatterternary\"}], \"surface\": [{\"colorbar\": {\"outlinewidth\": 0, \"tickcolor\": \"rgb(36,36,36)\", \"ticklen\": 8, \"ticks\": \"outside\", \"tickwidth\": 2}, \"colorscale\": [[0.0, \"rgb(2,4,25)\"], [0.06274509803921569, \"rgb(24,15,41)\"], [0.12549019607843137, \"rgb(47,23,57)\"], [0.18823529411764706, \"rgb(71,28,72)\"], [0.25098039215686274, \"rgb(97,30,82)\"], [0.3137254901960784, \"rgb(123,30,89)\"], [0.3764705882352941, \"rgb(150,27,91)\"], [0.4392156862745098, \"rgb(177,22,88)\"], [0.5019607843137255, \"rgb(203,26,79)\"], [0.5647058823529412, \"rgb(223,47,67)\"], [0.6274509803921569, \"rgb(236,76,61)\"], [0.6901960784313725, \"rgb(242,107,73)\"], [0.7529411764705882, \"rgb(244,135,95)\"], [0.8156862745098039, \"rgb(245,162,122)\"], [0.8784313725490196, \"rgb(246,188,153)\"], [0.9411764705882353, \"rgb(247,212,187)\"], [1.0, \"rgb(250,234,220)\"]], \"type\": \"surface\"}], \"table\": [{\"cells\": {\"fill\": {\"color\": \"rgb(231,231,240)\"}, \"line\": {\"color\": \"white\"}}, \"header\": {\"fill\": {\"color\": \"rgb(183,183,191)\"}, \"line\": {\"color\": \"white\"}}, \"type\": \"table\"}]}, \"layout\": {\"annotationdefaults\": {\"arrowcolor\": \"rgb(67,103,167)\"}, \"autotypenumbers\": \"strict\", \"coloraxis\": {\"colorbar\": {\"outlinewidth\": 0, \"tickcolor\": \"rgb(36,36,36)\", \"ticklen\": 8, \"ticks\": \"outside\", \"tickwidth\": 2}}, \"colorscale\": {\"sequential\": [[0.0, \"rgb(2,4,25)\"], [0.06274509803921569, \"rgb(24,15,41)\"], [0.12549019607843137, \"rgb(47,23,57)\"], [0.18823529411764706, \"rgb(71,28,72)\"], [0.25098039215686274, \"rgb(97,30,82)\"], [0.3137254901960784, \"rgb(123,30,89)\"], [0.3764705882352941, \"rgb(150,27,91)\"], [0.4392156862745098, \"rgb(177,22,88)\"], [0.5019607843137255, \"rgb(203,26,79)\"], [0.5647058823529412, \"rgb(223,47,67)\"], [0.6274509803921569, \"rgb(236,76,61)\"], [0.6901960784313725, \"rgb(242,107,73)\"], [0.7529411764705882, \"rgb(244,135,95)\"], [0.8156862745098039, \"rgb(245,162,122)\"], [0.8784313725490196, \"rgb(246,188,153)\"], [0.9411764705882353, \"rgb(247,212,187)\"], [1.0, \"rgb(250,234,220)\"]], \"sequentialminus\": [[0.0, \"rgb(2,4,25)\"], [0.06274509803921569, \"rgb(24,15,41)\"], [0.12549019607843137, \"rgb(47,23,57)\"], [0.18823529411764706, \"rgb(71,28,72)\"], [0.25098039215686274, \"rgb(97,30,82)\"], [0.3137254901960784, \"rgb(123,30,89)\"], [0.3764705882352941, \"rgb(150,27,91)\"], [0.4392156862745098, \"rgb(177,22,88)\"], [0.5019607843137255, \"rgb(203,26,79)\"], [0.5647058823529412, \"rgb(223,47,67)\"], [0.6274509803921569, \"rgb(236,76,61)\"], [0.6901960784313725, \"rgb(242,107,73)\"], [0.7529411764705882, \"rgb(244,135,95)\"], [0.8156862745098039, \"rgb(245,162,122)\"], [0.8784313725490196, \"rgb(246,188,153)\"], [0.9411764705882353, \"rgb(247,212,187)\"], [1.0, \"rgb(250,234,220)\"]]}, \"colorway\": [\"rgb(76,114,176)\", \"rgb(221,132,82)\", \"rgb(85,168,104)\", \"rgb(196,78,82)\", \"rgb(129,114,179)\", \"rgb(147,120,96)\", \"rgb(218,139,195)\", \"rgb(140,140,140)\", \"rgb(204,185,116)\", \"rgb(100,181,205)\"], \"font\": {\"color\": \"rgb(36,36,36)\"}, \"geo\": {\"bgcolor\": \"white\", \"lakecolor\": \"white\", \"landcolor\": \"rgb(234,234,242)\", \"showlakes\": true, \"showland\": true, \"subunitcolor\": \"white\"}, \"hoverlabel\": {\"align\": \"left\"}, \"hovermode\": \"closest\", \"paper_bgcolor\": \"white\", \"plot_bgcolor\": \"rgb(234,234,242)\", \"polar\": {\"angularaxis\": {\"gridcolor\": \"white\", \"linecolor\": \"white\", \"showgrid\": true, \"ticks\": \"\"}, \"bgcolor\": \"rgb(234,234,242)\", \"radialaxis\": {\"gridcolor\": \"white\", \"linecolor\": \"white\", \"showgrid\": true, \"ticks\": \"\"}}, \"scene\": {\"xaxis\": {\"backgroundcolor\": \"rgb(234,234,242)\", \"gridcolor\": \"white\", \"gridwidth\": 2, \"linecolor\": \"white\", \"showbackground\": true, \"showgrid\": true, \"ticks\": \"\", \"zerolinecolor\": \"white\"}, \"yaxis\": {\"backgroundcolor\": \"rgb(234,234,242)\", \"gridcolor\": \"white\", \"gridwidth\": 2, \"linecolor\": \"white\", \"showbackground\": true, \"showgrid\": true, \"ticks\": \"\", \"zerolinecolor\": \"white\"}, \"zaxis\": {\"backgroundcolor\": \"rgb(234,234,242)\", \"gridcolor\": \"white\", \"gridwidth\": 2, \"linecolor\": \"white\", \"showbackground\": true, \"showgrid\": true, \"ticks\": \"\", \"zerolinecolor\": \"white\"}}, \"shapedefaults\": {\"fillcolor\": \"rgb(67,103,167)\", \"line\": {\"width\": 0}, \"opacity\": 0.5}, \"ternary\": {\"aaxis\": {\"gridcolor\": \"white\", \"linecolor\": \"white\", \"showgrid\": true, \"ticks\": \"\"}, \"baxis\": {\"gridcolor\": \"white\", \"linecolor\": \"white\", \"showgrid\": true, \"ticks\": \"\"}, \"bgcolor\": \"rgb(234,234,242)\", \"caxis\": {\"gridcolor\": \"white\", \"linecolor\": \"white\", \"showgrid\": true, \"ticks\": \"\"}}, \"xaxis\": {\"automargin\": true, \"gridcolor\": \"white\", \"linecolor\": \"white\", \"showgrid\": true, \"ticks\": \"\", \"title\": {\"standoff\": 15}, \"zerolinecolor\": \"white\"}, \"yaxis\": {\"automargin\": true, \"gridcolor\": \"white\", \"linecolor\": \"white\", \"showgrid\": true, \"ticks\": \"\", \"title\": {\"standoff\": 15}, \"zerolinecolor\": \"white\"}}}, \"title\": {\"text\": \"Value for money in top transactions\"}, \"xaxis\": {\"anchor\": \"y\", \"domain\": [0.0, 1.0], \"title\": {\"text\": \"performance points [0-100] per mn. \\u20ac\"}}, \"yaxis\": {\"anchor\": \"x\", \"domain\": [0.0, 1.0], \"title\": {\"text\": \"transaction name\"}}},                        {\"responsive\": true}                    )                };                            </script>        </div>\n",
       "</body>\n",
       "</html>"
      ],
      "text/plain": [
       "<IPython.core.display.HTML object>"
      ]
     },
     "execution_count": 50,
     "metadata": {},
     "output_type": "execute_result"
    }
   ],
   "source": [
    "#hide_input\n",
    "HTML(px.bar(perf_after_transaction,\n",
    "    labels={\"perf_per_eur\" : \"performance points [0-100] per mn. €\"}, \n",
    "    template=\"seaborn\", \n",
    "    title=\"Value for money in top transactions\",\n",
    "    y=\"transaction name\", \n",
    "    x=\"perf_per_eur\",\n",
    "    height=1000).to_html(include_plotlyjs='cdn'))"
   ]
  },
  {
   "cell_type": "markdown",
   "metadata": {},
   "source": [
    "## Caveats and discussion\n",
    "While some players stay in the new club for several years, others may be transferred after just a couple of seasons. To control for this, we need to normalize by the number of years the player stays.\n",
    "\n",
    "An even better metric would be the net price per total performance delivered. This metric would consider the net price, i.e., the value of the purchase minus the sale value. But given the restricted time range of the dataset (2015-2021), we have very little data about actual sales at market values and thus decided not to pursue this analysis. "
   ]
  },
  {
   "cell_type": "code",
   "execution_count": null,
   "metadata": {},
   "outputs": [],
   "source": []
  }
 ],
 "metadata": {
  "kernelspec": {
   "display_name": "Python [conda env:dev_react_jupyterlab] *",
   "language": "python",
   "name": "conda-env-dev_react_jupyterlab-py"
  },
  "language_info": {
   "codemirror_mode": {
    "name": "ipython",
    "version": 3
   },
   "file_extension": ".py",
   "mimetype": "text/x-python",
   "name": "python",
   "nbconvert_exporter": "python",
   "pygments_lexer": "ipython3",
   "version": "3.7.9"
  }
 },
 "nbformat": 4,
 "nbformat_minor": 4
}
