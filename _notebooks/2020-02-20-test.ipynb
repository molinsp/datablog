{
 "cells": [
  {
   "cell_type": "markdown",
   "metadata": {},
   "source": [
    "# Fastpages Notebook Blog Post\n",
    "> A tutorial of fastpages for Jupyter notebooks.\n",
    "\n",
    "- toc: true \n",
    "- badges: true\n",
    "- comments: true\n",
    "- categories: [jupyter]\n",
    "- image: images/chart-preview.png"
   ]
  },
  {
   "cell_type": "code",
   "execution_count": 1,
   "metadata": {
    "execution": {
     "iopub.execute_input": "2021-04-03T22:29:56.350245Z",
     "iopub.status.busy": "2021-04-03T22:29:56.349848Z",
     "iopub.status.idle": "2021-04-03T22:29:56.996865Z",
     "shell.execute_reply": "2021-04-03T22:29:56.995869Z",
     "shell.execute_reply.started": "2021-04-03T22:29:56.350207Z"
    }
   },
   "outputs": [],
   "source": [
    "import pandas as pd\n",
    "from fastdata.integrations import *\n",
    "from fastdata.core import *\n",
    "import plotly.express as px\n",
    "from IPython.display import HTML"
   ]
  },
  {
   "cell_type": "markdown",
   "metadata": {},
   "source": [
    "## Goal"
   ]
  },
  {
   "cell_type": "markdown",
   "metadata": {},
   "source": [
    "The goal of this analysis is to help you understand what the deal is with the Astra Zeneca vaccine, specifically the risks reported by the media and the conclusions of the last European Medical Agency (EMA) report.\n",
    "\n",
    "The report is based on EMA data published [here](https://www.ema.europa.eu/en/documents/prac-recommendation/signal-assessment-report-embolic-thrombotic-events-smq-covid-19-vaccine-chadox1-s-recombinant-covid_en.pdf). \n",
    "\n",
    "The analysis does not aim to challenge the underlying data, but rather make part of the report easier to understand without going through a 50 page EMA report.\n",
    "\n",
    "**DISCLAIMER:** The author is not an expert in the field, and is applying some general statistical thinking to the problem. Therefore, it may contain errors, omissions or otherwise not accurate information."
   ]
  },
  {
   "cell_type": "markdown",
   "metadata": {},
   "source": [
    "## Methodology"
   ]
  },
  {
   "cell_type": "markdown",
   "metadata": {},
   "source": [
    "### Introduction"
   ]
  },
  {
   "cell_type": "markdown",
   "metadata": {},
   "source": [
    "The EMA report performs some observed to expected analysis (OE) in the report to try to understand the potential risks of the vaccine. We will focus on the \"EMA analysis of EudraVigilance data\" (sction 3.1.5 in the report).\n",
    "\n",
    "**Expected to observed analysis:**\n",
    "\n",
    "The logic of this analysis is to compare how many cases you have observed with one condition (observed) vs. how many usually happen (expected). With this, you can calculate an Observed to Expected Ration, which is defined as # of observed cases / # expected cases.\n",
    "\n",
    "The statistical uncertainty will often be driven by the observed number of cases, which is often small (rare events). To deal with this statistical uncertainty around the total number of cases observed over the risk period of interest, a 95% Poisson exact confidence interval (95%CI) is often used (more on this later).\n",
    "\n",
    "**EudraVigilance database:**\n",
    "\n",
    "EudraVigilance is a database with information about suspected adverse reactions to medicines which have been authorised or being studied in clinical trials in the European Economic Area (EEA). \n",
    "[Source](https://www.ema.europa.eu/en/human-regulatory/research-development/pharmacovigilance/eudravigilance)\n",
    "\n",
    "This section performs an OE analysis 3 types of conditions present in the EudraVigilance database:\n",
    "- Disseminated intravascular coagulation\n",
    "- Cerebral Venous Sinus Thrombosis\n",
    "- Embolic and thrombotic events"
   ]
  },
  {
   "cell_type": "markdown",
   "metadata": {},
   "source": [
    "### Data sources"
   ]
  },
  {
   "cell_type": "markdown",
   "metadata": {},
   "source": [
    "A key input for the analysis is the incidence rate of the specific condition, to be able to determine the expected cases. It is useful also if the data is stratified by groups, to be able to analyize not just the general population as a whole but also individual subgroups.\n",
    "\n",
    "The databases used for the main analysis for the three events investigated are:\n",
    "- Coagulation disorder (this was used to compare with the SMQ Embolic and\n",
    "thrombotic events): ARS from Italy\n",
    "- Disseminated intravascular coagulation: FISABIO from Spain\n",
    "- Cerebral venous sinus thrombosis: ARS from Italy "
   ]
  },
  {
   "cell_type": "markdown",
   "metadata": {},
   "source": [
    "## Analysis of potential side-effects"
   ]
  },
  {
   "cell_type": "markdown",
   "metadata": {},
   "source": [
    "### Disseminated intravascular coagulation (DIC)"
   ]
  },
  {
   "cell_type": "markdown",
   "metadata": {},
   "source": [
    "Disseminated intravascular coagulation (DIC) is a rare but serious condition that causes abnormal blood clotting throughout the body’s blood vessels. It is caused by another disease or condition, such as an infection or injury, that makes the body’s normal blood clotting process become overactive.\n",
    "\n",
    "[Source: US NIH](https://www.nhlbi.nih.gov/health-topics/disseminated-intravascular-coagulation)"
   ]
  },
  {
   "cell_type": "markdown",
   "metadata": {
    "execution": {
     "iopub.execute_input": "2021-04-03T16:56:46.563435Z",
     "iopub.status.busy": "2021-04-03T16:56:46.563116Z",
     "iopub.status.idle": "2021-04-03T16:56:46.571711Z",
     "shell.execute_reply": "2021-04-03T16:56:46.569162Z",
     "shell.execute_reply.started": "2021-04-03T16:56:46.563400Z"
    }
   },
   "source": [
    "For those of us that are not medicine exprts, this diagram shows of a thrombus (blood clot) that has blocked a blood vessel valve.\n",
    "\n",
    "![](https://upload.wikimedia.org/wikipedia/commons/c/c5/Blood_clot_diagram.png)"
   ]
  },
  {
   "cell_type": "markdown",
   "metadata": {},
   "source": [
    "#### Load and clean the data"
   ]
  },
  {
   "cell_type": "code",
   "execution_count": 2,
   "metadata": {
    "execution": {
     "iopub.execute_input": "2021-04-03T22:29:56.998999Z",
     "iopub.status.busy": "2021-04-03T22:29:56.998609Z",
     "iopub.status.idle": "2021-04-03T22:30:00.542085Z",
     "shell.execute_reply": "2021-04-03T22:30:00.540297Z",
     "shell.execute_reply.started": "2021-04-03T22:29:56.998952Z"
    }
   },
   "outputs": [],
   "source": [
    "dic = gsheet_to_df(\n",
    "    url=\"https://docs.google.com/spreadsheets/d/11yJ8GbArmcazWG8UdsSWD2gY2VIVD7l_zaPOdiF2ePY\", \n",
    "    start_row=2, \n",
    "    sheet=\"DIC\")"
   ]
  },
  {
   "cell_type": "code",
   "execution_count": 3,
   "metadata": {
    "execution": {
     "iopub.execute_input": "2021-04-03T22:30:00.544099Z",
     "iopub.status.busy": "2021-04-03T22:30:00.543570Z",
     "iopub.status.idle": "2021-04-03T22:30:00.571167Z",
     "shell.execute_reply": "2021-04-03T22:30:00.560417Z",
     "shell.execute_reply.started": "2021-04-03T22:30:00.544028Z"
    }
   },
   "outputs": [],
   "source": [
    "dic = dic.drop(\n",
    "    columns=[\"EEA Expected 14d\",\"EEA Observed 14d From EV\",\"EEA OE 14d with 95% c.i.\"])"
   ]
  },
  {
   "cell_type": "code",
   "execution_count": 4,
   "metadata": {
    "execution": {
     "iopub.execute_input": "2021-04-03T22:30:00.590021Z",
     "iopub.status.busy": "2021-04-03T22:30:00.589394Z",
     "iopub.status.idle": "2021-04-03T22:30:00.613365Z",
     "shell.execute_reply": "2021-04-03T22:30:00.611426Z",
     "shell.execute_reply.started": "2021-04-03T22:30:00.589947Z"
    }
   },
   "outputs": [],
   "source": [
    "dic[\"oe_ci_interval_min\"] = dic[\"EEA+UK  OE 14d with 95% c.i.\"].fdt.clean_text_column(\n",
    "    mode=\"custom\", \n",
    "    keep_unmatched=False, \n",
    "    regex=\"(\\d+?[,.]\\d+) - \\d+?[,.]\\d+\")"
   ]
  },
  {
   "cell_type": "code",
   "execution_count": 5,
   "metadata": {
    "execution": {
     "iopub.execute_input": "2021-04-03T22:30:00.626231Z",
     "iopub.status.busy": "2021-04-03T22:30:00.625336Z",
     "iopub.status.idle": "2021-04-03T22:30:00.674075Z",
     "shell.execute_reply": "2021-04-03T22:30:00.668516Z",
     "shell.execute_reply.started": "2021-04-03T22:30:00.626164Z"
    }
   },
   "outputs": [],
   "source": [
    "dic[\"oe_ci_interval_max\"] = dic[\"EEA+UK  OE 14d with 95% c.i.\"].fdt.clean_text_column(\n",
    "    mode=\"custom\", \n",
    "    keep_unmatched=False, \n",
    "    regex=\"\\d+?[,.]\\d+ - (\\d+?[,.]\\d+)\")"
   ]
  },
  {
   "cell_type": "code",
   "execution_count": 6,
   "metadata": {
    "execution": {
     "iopub.execute_input": "2021-04-03T22:30:00.682507Z",
     "iopub.status.busy": "2021-04-03T22:30:00.681668Z",
     "iopub.status.idle": "2021-04-03T22:30:00.691161Z",
     "shell.execute_reply": "2021-04-03T22:30:00.688931Z",
     "shell.execute_reply.started": "2021-04-03T22:30:00.682442Z"
    }
   },
   "outputs": [],
   "source": [
    "dic[\"oe\"] = dic[\"EEA+UK  OE 14d with 95% c.i.\"].fdt.clean_text_column(\n",
    "    mode=\"before_character\", \n",
    "    keep_unmatched=False, \n",
    "    character=\"(\")"
   ]
  },
  {
   "cell_type": "code",
   "execution_count": 7,
   "metadata": {
    "execution": {
     "iopub.execute_input": "2021-04-03T22:30:00.693413Z",
     "iopub.status.busy": "2021-04-03T22:30:00.693032Z",
     "iopub.status.idle": "2021-04-03T22:30:00.700902Z",
     "shell.execute_reply": "2021-04-03T22:30:00.699679Z",
     "shell.execute_reply.started": "2021-04-03T22:30:00.693377Z"
    }
   },
   "outputs": [],
   "source": [
    "dic = dic.drop(\n",
    "    columns=[\"EEA+UK  OE 14d with 95% c.i.\"])"
   ]
  },
  {
   "cell_type": "code",
   "execution_count": 8,
   "metadata": {
    "execution": {
     "iopub.execute_input": "2021-04-03T22:30:00.703915Z",
     "iopub.status.busy": "2021-04-03T22:30:00.703373Z",
     "iopub.status.idle": "2021-04-03T22:30:00.713804Z",
     "shell.execute_reply": "2021-04-03T22:30:00.712593Z",
     "shell.execute_reply.started": "2021-04-03T22:30:00.703859Z"
    }
   },
   "outputs": [],
   "source": [
    "dic = dic.astype(\n",
    "    dtype={\"IR per 100,000 Person years From FISABIO\" : \"float64\", \"EEA+UK Expected 14d\" : \"float64\", \"EEA+UK  Observed 14d From EV\" : \"float64\", \"oe_ci_interval_min\" : \"float64\", \"oe_ci_interval_max\" : \"float64\", \"oe\" : \"float64\"})"
   ]
  },
  {
   "cell_type": "code",
   "execution_count": 9,
   "metadata": {
    "execution": {
     "iopub.execute_input": "2021-04-03T22:30:12.767090Z",
     "iopub.status.busy": "2021-04-03T22:30:12.766712Z",
     "iopub.status.idle": "2021-04-03T22:30:12.790343Z",
     "shell.execute_reply": "2021-04-03T22:30:12.789350Z",
     "shell.execute_reply.started": "2021-04-03T22:30:12.767055Z"
    }
   },
   "outputs": [
    {
     "data": {
      "text/html": [
       "<div>\n",
       "<style scoped>\n",
       "    .dataframe tbody tr th:only-of-type {\n",
       "        vertical-align: middle;\n",
       "    }\n",
       "\n",
       "    .dataframe tbody tr th {\n",
       "        vertical-align: top;\n",
       "    }\n",
       "\n",
       "    .dataframe thead th {\n",
       "        text-align: right;\n",
       "    }\n",
       "</style>\n",
       "<table border=\"1\" class=\"dataframe\">\n",
       "  <thead>\n",
       "    <tr style=\"text-align: right;\">\n",
       "      <th></th>\n",
       "      <th>Age group</th>\n",
       "      <th>IR per 100,000 Person years From FISABIO</th>\n",
       "      <th>EEA+UK Expected 14d</th>\n",
       "      <th>EEA+UK  Observed 14d From EV</th>\n",
       "      <th>oe_ci_interval_min</th>\n",
       "      <th>oe_ci_interval_max</th>\n",
       "      <th>oe</th>\n",
       "    </tr>\n",
       "  </thead>\n",
       "  <tbody>\n",
       "    <tr>\n",
       "      <th>0</th>\n",
       "      <td>20-29</td>\n",
       "      <td>0.60</td>\n",
       "      <td>0.04</td>\n",
       "      <td>1.0</td>\n",
       "      <td>0.30</td>\n",
       "      <td>129.41</td>\n",
       "      <td>23.26</td>\n",
       "    </tr>\n",
       "    <tr>\n",
       "      <th>1</th>\n",
       "      <td>30-49</td>\n",
       "      <td>1.09</td>\n",
       "      <td>1.99</td>\n",
       "      <td>4.0</td>\n",
       "      <td>0.54</td>\n",
       "      <td>5.16</td>\n",
       "      <td>2.02</td>\n",
       "    </tr>\n",
       "    <tr>\n",
       "      <th>2</th>\n",
       "      <td>50-59</td>\n",
       "      <td>3.07</td>\n",
       "      <td>4.38</td>\n",
       "      <td>1.0</td>\n",
       "      <td>0.00</td>\n",
       "      <td>1.27</td>\n",
       "      <td>0.23</td>\n",
       "    </tr>\n",
       "    <tr>\n",
       "      <th>3</th>\n",
       "      <td>60-69</td>\n",
       "      <td>4.67</td>\n",
       "      <td>9.24</td>\n",
       "      <td>1.0</td>\n",
       "      <td>0.00</td>\n",
       "      <td>0.60</td>\n",
       "      <td>0.11</td>\n",
       "    </tr>\n",
       "    <tr>\n",
       "      <th>4</th>\n",
       "      <td>70-79</td>\n",
       "      <td>8.37</td>\n",
       "      <td>11.30</td>\n",
       "      <td>0.0</td>\n",
       "      <td>0.00</td>\n",
       "      <td>0.32</td>\n",
       "      <td>0.00</td>\n",
       "    </tr>\n",
       "    <tr>\n",
       "      <th>5</th>\n",
       "      <td>80+</td>\n",
       "      <td>11.66</td>\n",
       "      <td>5.37</td>\n",
       "      <td>0.0</td>\n",
       "      <td>0.00</td>\n",
       "      <td>0.68</td>\n",
       "      <td>0.00</td>\n",
       "    </tr>\n",
       "  </tbody>\n",
       "</table>\n",
       "</div>"
      ],
      "text/plain": [
       "  Age group  IR per 100,000 Person years From FISABIO  EEA+UK Expected 14d  \\\n",
       "0     20-29                                      0.60                 0.04   \n",
       "1     30-49                                      1.09                 1.99   \n",
       "2     50-59                                      3.07                 4.38   \n",
       "3     60-69                                      4.67                 9.24   \n",
       "4     70-79                                      8.37                11.30   \n",
       "5       80+                                     11.66                 5.37   \n",
       "\n",
       "   EEA+UK  Observed 14d From EV  oe_ci_interval_min  oe_ci_interval_max     oe  \n",
       "0                           1.0                0.30              129.41  23.26  \n",
       "1                           4.0                0.54                5.16   2.02  \n",
       "2                           1.0                0.00                1.27   0.23  \n",
       "3                           1.0                0.00                0.60   0.11  \n",
       "4                           0.0                0.00                0.32   0.00  \n",
       "5                           0.0                0.00                0.68   0.00  "
      ]
     },
     "execution_count": 9,
     "metadata": {},
     "output_type": "execute_result"
    }
   ],
   "source": [
    "dic"
   ]
  },
  {
   "cell_type": "code",
   "execution_count": null,
   "metadata": {},
   "outputs": [],
   "source": []
  }
 ],
 "metadata": {
  "kernelspec": {
   "display_name": "Python [conda env:dev_react_jupyterlab] *",
   "language": "python",
   "name": "conda-env-dev_react_jupyterlab-py"
  },
  "language_info": {
   "codemirror_mode": {
    "name": "ipython",
    "version": 3
   },
   "file_extension": ".py",
   "mimetype": "text/x-python",
   "name": "python",
   "nbconvert_exporter": "python",
   "pygments_lexer": "ipython3",
   "version": "3.7.9"
  },
  "varInspector": {
   "cols": {
    "lenName": 16,
    "lenType": 16,
    "lenVar": 40
   },
   "kernels_config": {
    "python": {
     "delete_cmd_postfix": "",
     "delete_cmd_prefix": "del ",
     "library": "var_list.py",
     "varRefreshCmd": "print(var_dic_list())"
    },
    "r": {
     "delete_cmd_postfix": ") ",
     "delete_cmd_prefix": "rm(",
     "library": "var_list.r",
     "varRefreshCmd": "cat(var_dic_list()) "
    }
   },
   "types_to_exclude": [
    "module",
    "function",
    "builtin_function_or_method",
    "instance",
    "_Feature"
   ],
   "window_display": false
  }
 },
 "nbformat": 4,
 "nbformat_minor": 4
}
